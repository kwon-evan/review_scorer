{
 "cells": [
  {
   "cell_type": "markdown",
   "source": [
    "LOAD DATA"
   ],
   "metadata": {
    "collapsed": false
   }
  },
  {
   "cell_type": "code",
   "execution_count": 2,
   "metadata": {
    "collapsed": true
   },
   "outputs": [
    {
     "ename": "ModuleNotFoundError",
     "evalue": "No module named 'review_scorer'",
     "output_type": "error",
     "traceback": [
      "\u001B[0;31m---------------------------------------------------------------------------\u001B[0m",
      "\u001B[0;31mModuleNotFoundError\u001B[0m                       Traceback (most recent call last)",
      "\u001B[0;32m/tmp/ipykernel_14889/2707953446.py\u001B[0m in \u001B[0;36m<module>\u001B[0;34m\u001B[0m\n\u001B[1;32m      4\u001B[0m \u001B[0;32mfrom\u001B[0m \u001B[0mtqdm\u001B[0m \u001B[0;32mimport\u001B[0m \u001B[0mtqdm\u001B[0m\u001B[0;34m\u001B[0m\u001B[0;34m\u001B[0m\u001B[0m\n\u001B[1;32m      5\u001B[0m \u001B[0;32mfrom\u001B[0m \u001B[0mgensim\u001B[0m\u001B[0;34m.\u001B[0m\u001B[0mmodels\u001B[0m \u001B[0;32mimport\u001B[0m \u001B[0mWord2Vec\u001B[0m\u001B[0;34m\u001B[0m\u001B[0;34m\u001B[0m\u001B[0m\n\u001B[0;32m----> 6\u001B[0;31m \u001B[0;32mfrom\u001B[0m \u001B[0mreview_scorer\u001B[0m \u001B[0;32mimport\u001B[0m \u001B[0mReviewScorer\u001B[0m\u001B[0;34m\u001B[0m\u001B[0;34m\u001B[0m\u001B[0m\n\u001B[0m\u001B[1;32m      7\u001B[0m \u001B[0;32mimport\u001B[0m \u001B[0mjson\u001B[0m\u001B[0;34m\u001B[0m\u001B[0;34m\u001B[0m\u001B[0m\n",
      "\u001B[0;31mModuleNotFoundError\u001B[0m: No module named 'review_scorer'"
     ]
    }
   ],
   "source": [
    "import os\n",
    "import pandas as pd\n",
    "from twkorean import TwitterKoreanProcessor\n",
    "from tqdm import tqdm\n",
    "from gensim.models import Word2Vec\n",
    "from review_scorer import ReviewScorer\n",
    "import json"
   ]
  },
  {
   "cell_type": "code",
   "execution_count": 4,
   "outputs": [],
   "source": [
    "HOME = os.getcwd().split(os.path.sep)\n",
    "PROJ_FOLDER = HOME + ['PycharmProjects', 'knlp_test']\n",
    "DATA_FOLDER = PROJ_FOLDER + ['data']"
   ],
   "metadata": {
    "collapsed": false,
    "pycharm": {
     "name": "#%%\n"
    }
   }
  },
  {
   "cell_type": "code",
   "execution_count": 5,
   "outputs": [],
   "source": [
    "senti: pd.DataFrame\n",
    "data: pd.DataFrame\n",
    "\n",
    "with open(os.path.sep.join(DATA_FOLDER + ['SentiWord_info.json']),\n",
    "          'rt',\n",
    "          encoding='UTF8') as f:\n",
    "    senti = pd.DataFrame.from_dict(json.load(f))\n",
    "\n",
    "with open(os.path.sep.join(DATA_FOLDER + ['learning_total.json']),\n",
    "          'rt',\n",
    "          encoding='UTF8') as f:\n",
    "    data = pd.DataFrame.from_dict(json.load(f))"
   ],
   "metadata": {
    "collapsed": false,
    "pycharm": {
     "name": "#%%\n"
    }
   }
  },
  {
   "cell_type": "markdown",
   "source": [
    "PREPROCESS"
   ],
   "metadata": {
    "collapsed": false
   }
  },
  {
   "cell_type": "code",
   "execution_count": 6,
   "outputs": [],
   "source": [
    "senti['polarity'] = senti['polarity'].apply(lambda x: int(x))"
   ],
   "metadata": {
    "collapsed": false,
    "pycharm": {
     "name": "#%%\n"
    }
   }
  },
  {
   "cell_type": "code",
   "execution_count": 7,
   "outputs": [
    {
     "data": {
      "text/plain": "                                              review  overall  taste  service  \\\n0  음 서양식 입니다. 외국에서 자주 먹어서 그런지 몰라도 그냥 그냥. 1/1 점심에 ...        3      3        3   \n1  늘 사람 많은 바베큐맛집 라이너스바베큐, 그래도 대기 시스템이 도입되어서 전보다 편...        5     -1       -1   \n2  언제나 방문할때마다 맛있게 먹는 라이너스~! 강추해요. 용산은 라이너스 때문에 가는...        5     -1       -1   \n3  라이너스 바비큐 맛있어요 이태원와서 맛있게 먹었네요 ㅎㅎㅎ  오랜만에 서울와서 좋은...        5     -1       -1   \n4  여긴 정말 맛잇는 곳이죠. 한국에 사는 외국인 친구가 소개해서 가게되었습니다. 마치...        5     -1       -1   \n\n   price  atmosphere      name  \\\n0      2          -1  라이너스 바베큐   \n1     -1          -1  라이너스 바베큐   \n2     -1          -1  라이너스 바베큐   \n3     -1          -1  라이너스 바베큐   \n4     -1          -1  라이너스 바베큐   \n\n                                            location  \n0  서울 용산구 이태원로 136-13 Down the stairway next to M...  \n1  서울 용산구 이태원로 136-13 Down the stairway next to M...  \n2  서울 용산구 이태원로 136-13 Down the stairway next to M...  \n3  서울 용산구 이태원로 136-13 Down the stairway next to M...  \n4  서울 용산구 이태원로 136-13 Down the stairway next to M...  ",
      "text/html": "<div>\n<style scoped>\n    .dataframe tbody tr th:only-of-type {\n        vertical-align: middle;\n    }\n\n    .dataframe tbody tr th {\n        vertical-align: top;\n    }\n\n    .dataframe thead th {\n        text-align: right;\n    }\n</style>\n<table border=\"1\" class=\"dataframe\">\n  <thead>\n    <tr style=\"text-align: right;\">\n      <th></th>\n      <th>review</th>\n      <th>overall</th>\n      <th>taste</th>\n      <th>service</th>\n      <th>price</th>\n      <th>atmosphere</th>\n      <th>name</th>\n      <th>location</th>\n    </tr>\n  </thead>\n  <tbody>\n    <tr>\n      <th>0</th>\n      <td>음 서양식 입니다. 외국에서 자주 먹어서 그런지 몰라도 그냥 그냥. 1/1 점심에 ...</td>\n      <td>3</td>\n      <td>3</td>\n      <td>3</td>\n      <td>2</td>\n      <td>-1</td>\n      <td>라이너스 바베큐</td>\n      <td>서울 용산구 이태원로 136-13 Down the stairway next to M...</td>\n    </tr>\n    <tr>\n      <th>1</th>\n      <td>늘 사람 많은 바베큐맛집 라이너스바베큐, 그래도 대기 시스템이 도입되어서 전보다 편...</td>\n      <td>5</td>\n      <td>-1</td>\n      <td>-1</td>\n      <td>-1</td>\n      <td>-1</td>\n      <td>라이너스 바베큐</td>\n      <td>서울 용산구 이태원로 136-13 Down the stairway next to M...</td>\n    </tr>\n    <tr>\n      <th>2</th>\n      <td>언제나 방문할때마다 맛있게 먹는 라이너스~! 강추해요. 용산은 라이너스 때문에 가는...</td>\n      <td>5</td>\n      <td>-1</td>\n      <td>-1</td>\n      <td>-1</td>\n      <td>-1</td>\n      <td>라이너스 바베큐</td>\n      <td>서울 용산구 이태원로 136-13 Down the stairway next to M...</td>\n    </tr>\n    <tr>\n      <th>3</th>\n      <td>라이너스 바비큐 맛있어요 이태원와서 맛있게 먹었네요 ㅎㅎㅎ  오랜만에 서울와서 좋은...</td>\n      <td>5</td>\n      <td>-1</td>\n      <td>-1</td>\n      <td>-1</td>\n      <td>-1</td>\n      <td>라이너스 바베큐</td>\n      <td>서울 용산구 이태원로 136-13 Down the stairway next to M...</td>\n    </tr>\n    <tr>\n      <th>4</th>\n      <td>여긴 정말 맛잇는 곳이죠. 한국에 사는 외국인 친구가 소개해서 가게되었습니다. 마치...</td>\n      <td>5</td>\n      <td>-1</td>\n      <td>-1</td>\n      <td>-1</td>\n      <td>-1</td>\n      <td>라이너스 바베큐</td>\n      <td>서울 용산구 이태원로 136-13 Down the stairway next to M...</td>\n    </tr>\n  </tbody>\n</table>\n</div>"
     },
     "execution_count": 7,
     "metadata": {},
     "output_type": "execute_result"
    }
   ],
   "source": [
    "data.drop('index', axis=1, inplace=True)\n",
    "data.columns = ['review', 'overall', 'taste', 'service', 'price', 'atmosphere', 'name', 'location']\n",
    "data.loc[:,['overall', 'taste', 'service', 'price', 'atmosphere']] = data.loc[:,['overall', 'taste', 'service', 'price', 'atmosphere']].apply(lambda x: x//10 if x is not -1 else x)\n",
    "data.head()"
   ],
   "metadata": {
    "collapsed": false,
    "pycharm": {
     "name": "#%%\n"
    }
   }
  },
  {
   "cell_type": "markdown",
   "source": [
    "TOKENIZE"
   ],
   "metadata": {
    "collapsed": false
   }
  },
  {
   "cell_type": "code",
   "execution_count": 8,
   "outputs": [
    {
     "name": "stderr",
     "output_type": "stream",
     "text": [
      "79812it [04:22, 303.79it/s]\n"
     ]
    }
   ],
   "source": [
    "processor = TwitterKoreanProcessor()\n",
    "reviews = [processor.tokenize_to_strings(row.review) for _, row in tqdm(data.iterrows())]"
   ],
   "metadata": {
    "collapsed": false,
    "pycharm": {
     "name": "#%%\n"
    }
   }
  },
  {
   "cell_type": "markdown",
   "source": [
    "TRAIN WORD2VEC"
   ],
   "metadata": {
    "collapsed": false
   }
  },
  {
   "cell_type": "code",
   "execution_count": 13,
   "outputs": [],
   "source": [
    "model = Word2Vec(sentences=reviews, vector_size=100, window=5, min_count=2, workers=4, hs=1)"
   ],
   "metadata": {
    "collapsed": false,
    "pycharm": {
     "name": "#%%\n"
    }
   }
  },
  {
   "cell_type": "code",
   "execution_count": 18,
   "outputs": [
    {
     "data": {
      "text/plain": "[('고아원', 0.510647177696228),\n ('place', 0.49208980798721313),\n ('was', 0.4724150598049164),\n ('젓갈', 0.42392709851264954),\n ('심장', 0.42013952136039734),\n ('perfect', 0.41733941435813904),\n ('The', 0.41377753019332886),\n ('SSOo', 0.4108841121196747),\n ('다스', 0.4071258306503296),\n ('Nice', 0.4050728976726532),\n ('돌려주다', 0.39864009618759155),\n ('아동', 0.39749589562416077),\n ('산입', 0.3957109749317169),\n ('̆̈', 0.3947729766368866),\n ('부레', 0.3911246657371521),\n ('에여', 0.38914161920547485),\n ('환경호르몬', 0.38837218284606934),\n ('/'', 0.3850107192993164),\n ('포디', 0.3828795254230499),\n ('도저히', 0.3828708827495575)]"
     },
     "execution_count": 18,
     "metadata": {},
     "output_type": "execute_result"
    }
   ],
   "source": [
    "model.wv.most_similar(positive=['존맛'], topn=20)"
   ],
   "metadata": {
    "collapsed": false,
    "pycharm": {
     "name": "#%%\n"
    }
   }
  },
  {
   "cell_type": "markdown",
   "source": [
    "TAG SENTIMENTAL DICTIONARY"
   ],
   "metadata": {
    "collapsed": false
   }
  },
  {
   "cell_type": "code",
   "execution_count": 9,
   "outputs": [],
   "source": [
    "from typing import List\n",
    "\n",
    "def get_similar_words_indexes(words: List[str],\n",
    "                          senti_df: pd.DataFrame,\n",
    "                          model: Word2Vec):\n",
    "    words_set = set(w[0] for word in words for w in model.wv.most_similar(word, topn=100))\n",
    "    words_set.update(words)\n",
    "    return senti_df['word'].isin(words_set) | senti_df['word_root'].isin(words_set)"
   ],
   "metadata": {
    "collapsed": false,
    "pycharm": {
     "name": "#%%\n"
    }
   }
  },
  {
   "cell_type": "code",
   "execution_count": 10,
   "outputs": [
    {
     "data": {
      "text/plain": "         word word_root  polarity\n80       가능하다        가능         2\n295        감격        감격         2\n297     감격스럽다        감격         2\n298      감격스레        감격         2\n299       감격이        감격         2\n301      감격하다        감격         2\n302      감격하여        감격         2\n416       강하다        강하         1\n1004     고요하게        고요         1\n1006     고요하고        고요         1\n1008      고요함        고요         1\n1009     고요해짐        고요         1\n1246      괜찮다        괜찮         1\n1974     깔끔하다        깔끔         2\n2603      놀랍다        놀랍         1\n3806       만족        만족         2\n3807      만족과        만족         2\n3809    만족스러운        만족         2\n3814   만족스럽거나        만족         2\n3815    만족스럽게        만족         2\n3816    만족스럽다        만족         2\n3820    만족시키는        만족         2\n3823     만족하는        만족         2\n3824     만족하다        만족         2\n3825      만족한        만족         2\n3827      만족할        만족         2\n3831      만족함        만족         2\n3933      맛없다        맛없        -1\n3934      맛없이         맛        -1\n3953      맛있다        맛있         2\n3954       맛집         맛         2\n4337      멋지다        멋지         2\n5831     부드럽다       부드럽         1\n6301      비리를        비리        -2\n6314      비싸다        비싸        -2\n6827     상쾌하다        상쾌         2\n7813     시원하다        시원         1\n7875     신선하다        신선         1\n9754     완벽하다        완벽         2\n10216    유명하다        유명         1\n10427     이기다        이기         1\n10663    일품이다        일품         2\n10991       잘         자         1\n11067   잘망스럽게         잘        -1\n11068     잘먹다         잘         2\n11113     잘빠진         잘         1\n11118    잘아지고         잘        -1\n11183      재미        재미         2\n11184     재미가        재미         1\n11462    정신질환        정신        -2\n11780      좋다         좋         2\n11790    좋아지다       좋아지         2\n11800    좋아하다       좋아하         2\n12097     즐겁다        즐겁         2\n14221    훌륭하다        훌륭         2\n14719       ㅠ         ㅠ        -1\n14721     ㅠㅠ         ㅠㅠ        -1",
      "text/html": "<div>\n<style scoped>\n    .dataframe tbody tr th:only-of-type {\n        vertical-align: middle;\n    }\n\n    .dataframe tbody tr th {\n        vertical-align: top;\n    }\n\n    .dataframe thead th {\n        text-align: right;\n    }\n</style>\n<table border=\"1\" class=\"dataframe\">\n  <thead>\n    <tr style=\"text-align: right;\">\n      <th></th>\n      <th>word</th>\n      <th>word_root</th>\n      <th>polarity</th>\n    </tr>\n  </thead>\n  <tbody>\n    <tr>\n      <th>80</th>\n      <td>가능하다</td>\n      <td>가능</td>\n      <td>2</td>\n    </tr>\n    <tr>\n      <th>295</th>\n      <td>감격</td>\n      <td>감격</td>\n      <td>2</td>\n    </tr>\n    <tr>\n      <th>297</th>\n      <td>감격스럽다</td>\n      <td>감격</td>\n      <td>2</td>\n    </tr>\n    <tr>\n      <th>298</th>\n      <td>감격스레</td>\n      <td>감격</td>\n      <td>2</td>\n    </tr>\n    <tr>\n      <th>299</th>\n      <td>감격이</td>\n      <td>감격</td>\n      <td>2</td>\n    </tr>\n    <tr>\n      <th>301</th>\n      <td>감격하다</td>\n      <td>감격</td>\n      <td>2</td>\n    </tr>\n    <tr>\n      <th>302</th>\n      <td>감격하여</td>\n      <td>감격</td>\n      <td>2</td>\n    </tr>\n    <tr>\n      <th>416</th>\n      <td>강하다</td>\n      <td>강하</td>\n      <td>1</td>\n    </tr>\n    <tr>\n      <th>1004</th>\n      <td>고요하게</td>\n      <td>고요</td>\n      <td>1</td>\n    </tr>\n    <tr>\n      <th>1006</th>\n      <td>고요하고</td>\n      <td>고요</td>\n      <td>1</td>\n    </tr>\n    <tr>\n      <th>1008</th>\n      <td>고요함</td>\n      <td>고요</td>\n      <td>1</td>\n    </tr>\n    <tr>\n      <th>1009</th>\n      <td>고요해짐</td>\n      <td>고요</td>\n      <td>1</td>\n    </tr>\n    <tr>\n      <th>1246</th>\n      <td>괜찮다</td>\n      <td>괜찮</td>\n      <td>1</td>\n    </tr>\n    <tr>\n      <th>1974</th>\n      <td>깔끔하다</td>\n      <td>깔끔</td>\n      <td>2</td>\n    </tr>\n    <tr>\n      <th>2603</th>\n      <td>놀랍다</td>\n      <td>놀랍</td>\n      <td>1</td>\n    </tr>\n    <tr>\n      <th>3806</th>\n      <td>만족</td>\n      <td>만족</td>\n      <td>2</td>\n    </tr>\n    <tr>\n      <th>3807</th>\n      <td>만족과</td>\n      <td>만족</td>\n      <td>2</td>\n    </tr>\n    <tr>\n      <th>3809</th>\n      <td>만족스러운</td>\n      <td>만족</td>\n      <td>2</td>\n    </tr>\n    <tr>\n      <th>3814</th>\n      <td>만족스럽거나</td>\n      <td>만족</td>\n      <td>2</td>\n    </tr>\n    <tr>\n      <th>3815</th>\n      <td>만족스럽게</td>\n      <td>만족</td>\n      <td>2</td>\n    </tr>\n    <tr>\n      <th>3816</th>\n      <td>만족스럽다</td>\n      <td>만족</td>\n      <td>2</td>\n    </tr>\n    <tr>\n      <th>3820</th>\n      <td>만족시키는</td>\n      <td>만족</td>\n      <td>2</td>\n    </tr>\n    <tr>\n      <th>3823</th>\n      <td>만족하는</td>\n      <td>만족</td>\n      <td>2</td>\n    </tr>\n    <tr>\n      <th>3824</th>\n      <td>만족하다</td>\n      <td>만족</td>\n      <td>2</td>\n    </tr>\n    <tr>\n      <th>3825</th>\n      <td>만족한</td>\n      <td>만족</td>\n      <td>2</td>\n    </tr>\n    <tr>\n      <th>3827</th>\n      <td>만족할</td>\n      <td>만족</td>\n      <td>2</td>\n    </tr>\n    <tr>\n      <th>3831</th>\n      <td>만족함</td>\n      <td>만족</td>\n      <td>2</td>\n    </tr>\n    <tr>\n      <th>3933</th>\n      <td>맛없다</td>\n      <td>맛없</td>\n      <td>-1</td>\n    </tr>\n    <tr>\n      <th>3934</th>\n      <td>맛없이</td>\n      <td>맛</td>\n      <td>-1</td>\n    </tr>\n    <tr>\n      <th>3953</th>\n      <td>맛있다</td>\n      <td>맛있</td>\n      <td>2</td>\n    </tr>\n    <tr>\n      <th>3954</th>\n      <td>맛집</td>\n      <td>맛</td>\n      <td>2</td>\n    </tr>\n    <tr>\n      <th>4337</th>\n      <td>멋지다</td>\n      <td>멋지</td>\n      <td>2</td>\n    </tr>\n    <tr>\n      <th>5831</th>\n      <td>부드럽다</td>\n      <td>부드럽</td>\n      <td>1</td>\n    </tr>\n    <tr>\n      <th>6301</th>\n      <td>비리를</td>\n      <td>비리</td>\n      <td>-2</td>\n    </tr>\n    <tr>\n      <th>6314</th>\n      <td>비싸다</td>\n      <td>비싸</td>\n      <td>-2</td>\n    </tr>\n    <tr>\n      <th>6827</th>\n      <td>상쾌하다</td>\n      <td>상쾌</td>\n      <td>2</td>\n    </tr>\n    <tr>\n      <th>7813</th>\n      <td>시원하다</td>\n      <td>시원</td>\n      <td>1</td>\n    </tr>\n    <tr>\n      <th>7875</th>\n      <td>신선하다</td>\n      <td>신선</td>\n      <td>1</td>\n    </tr>\n    <tr>\n      <th>9754</th>\n      <td>완벽하다</td>\n      <td>완벽</td>\n      <td>2</td>\n    </tr>\n    <tr>\n      <th>10216</th>\n      <td>유명하다</td>\n      <td>유명</td>\n      <td>1</td>\n    </tr>\n    <tr>\n      <th>10427</th>\n      <td>이기다</td>\n      <td>이기</td>\n      <td>1</td>\n    </tr>\n    <tr>\n      <th>10663</th>\n      <td>일품이다</td>\n      <td>일품</td>\n      <td>2</td>\n    </tr>\n    <tr>\n      <th>10991</th>\n      <td>잘</td>\n      <td>자</td>\n      <td>1</td>\n    </tr>\n    <tr>\n      <th>11067</th>\n      <td>잘망스럽게</td>\n      <td>잘</td>\n      <td>-1</td>\n    </tr>\n    <tr>\n      <th>11068</th>\n      <td>잘먹다</td>\n      <td>잘</td>\n      <td>2</td>\n    </tr>\n    <tr>\n      <th>11113</th>\n      <td>잘빠진</td>\n      <td>잘</td>\n      <td>1</td>\n    </tr>\n    <tr>\n      <th>11118</th>\n      <td>잘아지고</td>\n      <td>잘</td>\n      <td>-1</td>\n    </tr>\n    <tr>\n      <th>11183</th>\n      <td>재미</td>\n      <td>재미</td>\n      <td>2</td>\n    </tr>\n    <tr>\n      <th>11184</th>\n      <td>재미가</td>\n      <td>재미</td>\n      <td>1</td>\n    </tr>\n    <tr>\n      <th>11462</th>\n      <td>정신질환</td>\n      <td>정신</td>\n      <td>-2</td>\n    </tr>\n    <tr>\n      <th>11780</th>\n      <td>좋다</td>\n      <td>좋</td>\n      <td>2</td>\n    </tr>\n    <tr>\n      <th>11790</th>\n      <td>좋아지다</td>\n      <td>좋아지</td>\n      <td>2</td>\n    </tr>\n    <tr>\n      <th>11800</th>\n      <td>좋아하다</td>\n      <td>좋아하</td>\n      <td>2</td>\n    </tr>\n    <tr>\n      <th>12097</th>\n      <td>즐겁다</td>\n      <td>즐겁</td>\n      <td>2</td>\n    </tr>\n    <tr>\n      <th>14221</th>\n      <td>훌륭하다</td>\n      <td>훌륭</td>\n      <td>2</td>\n    </tr>\n    <tr>\n      <th>14719</th>\n      <td>ㅠ</td>\n      <td>ㅠ</td>\n      <td>-1</td>\n    </tr>\n    <tr>\n      <th>14721</th>\n      <td>ㅠㅠ</td>\n      <td>ㅠㅠ</td>\n      <td>-1</td>\n    </tr>\n  </tbody>\n</table>\n</div>"
     },
     "execution_count": 10,
     "metadata": {},
     "output_type": "execute_result"
    }
   ],
   "source": [
    "senti.loc[get_similar_words_indexes(words=['맛있다', '맛없다'],\n",
    "                      senti_df=senti, model=model)]"
   ],
   "metadata": {
    "collapsed": false,
    "pycharm": {
     "name": "#%%\n"
    }
   }
  },
  {
   "cell_type": "code",
   "execution_count": 11,
   "outputs": [],
   "source": [
    "def tag_senti(taste_words: List[str],\n",
    "              price_words: List[str],\n",
    "              atmosphere_words: List[str],\n",
    "              service_words: List[str],\n",
    "              senti_df: pd.DataFrame,\n",
    "              model: Word2Vec):\n",
    "    categories = {\"taste\": taste_words,\n",
    "                  \"price\": price_words,\n",
    "                  \"atmosphere\": atmosphere_words,\n",
    "                  \"service\": service_words}\n",
    "\n",
    "    for category, words in categories.items():\n",
    "        senti_df[category] = False\n",
    "        senti_df.loc[get_similar_words_indexes(words=words,\n",
    "                                               senti_df=senti_df,\n",
    "                                               model=model), category] = True"
   ],
   "metadata": {
    "collapsed": false,
    "pycharm": {
     "name": "#%%\n"
    }
   }
  },
  {
   "cell_type": "code",
   "execution_count": 12,
   "outputs": [],
   "source": [
    "tag_senti(taste_words=['맛', '맛있다', '맛없다', '부드럽다'],\n",
    "          price_words=['가격', '비싸다', '싸다', '저렴'],\n",
    "          atmosphere_words=['인테리어', '분위기'],\n",
    "          service_words=['친절', '친절하다', '서비스'],\n",
    "          senti_df=senti,\n",
    "          model=model)"
   ],
   "metadata": {
    "collapsed": false,
    "pycharm": {
     "name": "#%%\n"
    }
   }
  },
  {
   "cell_type": "code",
   "execution_count": 13,
   "outputs": [
    {
     "data": {
      "text/plain": "    word word_root  polarity  taste  price  atmosphere  service\n0    (-;         (         1  False  False       False    False\n1  (;_;)     (;_;)        -1  False  False       False    False\n2   (^^)      (^^)         1  False  False       False    False\n3  (^-^)     (^-^)         1  False  False       False    False\n4   (^^*         (         1  False  False       False    False",
      "text/html": "<div>\n<style scoped>\n    .dataframe tbody tr th:only-of-type {\n        vertical-align: middle;\n    }\n\n    .dataframe tbody tr th {\n        vertical-align: top;\n    }\n\n    .dataframe thead th {\n        text-align: right;\n    }\n</style>\n<table border=\"1\" class=\"dataframe\">\n  <thead>\n    <tr style=\"text-align: right;\">\n      <th></th>\n      <th>word</th>\n      <th>word_root</th>\n      <th>polarity</th>\n      <th>taste</th>\n      <th>price</th>\n      <th>atmosphere</th>\n      <th>service</th>\n    </tr>\n  </thead>\n  <tbody>\n    <tr>\n      <th>0</th>\n      <td>(-;</td>\n      <td>(</td>\n      <td>1</td>\n      <td>False</td>\n      <td>False</td>\n      <td>False</td>\n      <td>False</td>\n    </tr>\n    <tr>\n      <th>1</th>\n      <td>(;_;)</td>\n      <td>(;_;)</td>\n      <td>-1</td>\n      <td>False</td>\n      <td>False</td>\n      <td>False</td>\n      <td>False</td>\n    </tr>\n    <tr>\n      <th>2</th>\n      <td>(^^)</td>\n      <td>(^^)</td>\n      <td>1</td>\n      <td>False</td>\n      <td>False</td>\n      <td>False</td>\n      <td>False</td>\n    </tr>\n    <tr>\n      <th>3</th>\n      <td>(^-^)</td>\n      <td>(^-^)</td>\n      <td>1</td>\n      <td>False</td>\n      <td>False</td>\n      <td>False</td>\n      <td>False</td>\n    </tr>\n    <tr>\n      <th>4</th>\n      <td>(^^*</td>\n      <td>(</td>\n      <td>1</td>\n      <td>False</td>\n      <td>False</td>\n      <td>False</td>\n      <td>False</td>\n    </tr>\n  </tbody>\n</table>\n</div>"
     },
     "execution_count": 13,
     "metadata": {},
     "output_type": "execute_result"
    }
   ],
   "source": [
    "senti.head()"
   ],
   "metadata": {
    "collapsed": false,
    "pycharm": {
     "name": "#%%\n"
    }
   }
  },
  {
   "cell_type": "code",
   "execution_count": 18,
   "outputs": [],
   "source": [
    "def score_review(review: str, senti: pd.DataFrame)->dict:\n",
    "    scores = {\"taste\": 0,\n",
    "              \"price\": 0,\n",
    "              \"atmosphere\": 0,\n",
    "              \"service\": 0}\n",
    "    tokens = processor.tokenize_to_strings(review)\n",
    "    scoring_review = senti.loc[senti.word.isin(tokens)]\n",
    "\n",
    "    return {category: sum(scoring_review.loc[scoring_review.loc[:,category] == True, 'polarity']) for category, score in scores.items()}"
   ],
   "metadata": {
    "collapsed": false,
    "pycharm": {
     "name": "#%%\n"
    }
   }
  },
  {
   "cell_type": "code",
   "execution_count": 15,
   "outputs": [
    {
     "data": {
      "text/plain": "{'taste': 2, 'price': 2, 'atmosphere': 0, 'service': 2}"
     },
     "execution_count": 15,
     "metadata": {},
     "output_type": "execute_result"
    }
   ],
   "source": [
    "score_review(data.review[0], senti)"
   ],
   "metadata": {
    "collapsed": false,
    "pycharm": {
     "name": "#%%\n"
    }
   }
  },
  {
   "cell_type": "code",
   "execution_count": 16,
   "outputs": [
    {
     "name": "stderr",
     "output_type": "stream",
     "text": [
      " 10%|████████▍                                                                           | 2/20 [00:00<00:01, 15.22it/s]"
     ]
    },
    {
     "name": "stdout",
     "output_type": "stream",
     "text": [
      "{'taste': 2, 'price': 2, 'atmosphere': 0, 'service': 2}\n",
      "음 서양식 입니다. 외국에서 자주 먹어서 그런지 몰라도 그냥 그냥. 1/1 점심에 갔는데 사람이 많네요. 줄 서서 먹을 정도는 아닌데. 아이디어만 좋음. 테이블 안내 하는 직원 서비스도는 별루..\n",
      "{'taste': 4, 'price': 4, 'atmosphere': 0, 'service': 2}\n",
      "늘 사람 많은 바베큐맛집 라이너스바베큐, 그래도 대기 시스템이 도입되어서 전보다 편한 것 같아요. 여기서 먹는 바베큐 참 맛있어요 추천\n",
      "{'taste': 2, 'price': 2, 'atmosphere': 0, 'service': 0}\n",
      "언제나 방문할때마다 맛있게 먹는 라이너스~! 강추해요. 용산은 라이너스 때문에 가는거같네요 ㅎㅎ 패티번은 언제나 추가를 해야 됩니다\n"
     ]
    },
    {
     "name": "stderr",
     "output_type": "stream",
     "text": [
      " 35%|█████████████████████████████▍                                                      | 7/20 [00:00<00:00, 18.58it/s]"
     ]
    },
    {
     "name": "stdout",
     "output_type": "stream",
     "text": [
      "{'taste': 4, 'price': 4, 'atmosphere': 0, 'service': 2}\n",
      "라이너스 바비큐 맛있어요 이태원와서 맛있게 먹었네요 ㅎㅎㅎ  오랜만에 서울와서 좋은 시간 보내고 가요 ㅎㅎㅎ굿굿굿굿\n",
      "{'taste': 6, 'price': 2, 'atmosphere': 0, 'service': 2}\n",
      "여긴 정말 맛잇는 곳이죠. 한국에 사는 외국인 친구가 소개해서 가게되었습니다. 마치 우리가 외국에서 맛있는 한식을 먹는 그런 느낌으로 외국인 친구가 참 좋아하더군요. 우리나라 입맛에도 훌륭합니다\n",
      "{'taste': 2, 'price': 2, 'atmosphere': 0, 'service': 0}\n",
      "가격이 저렴하지도 않고, 그렇다고 맛이 특별하지도 않은데 끝없이 늘어선 줄. 명성에 이끌려 방문했으나 다시는 방문하고 싶은 생각이 들지 않는 평범한 바베큐전문점.\n",
      "{'taste': 0, 'price': 0, 'atmosphere': 2, 'service': 0}\n",
      "그저 그런 평범한 음식, 그럼에도 불구하고 긴 대기시간, 굉장히 불친절한 서비스. 굳이 애써 기다릴 만한 가치가 없는 곳입니다.\n",
      "{'taste': 3, 'price': 3, 'atmosphere': 0, 'service': 2}\n",
      "날씨좋을때 먹는 분위기도 좋고 음식도 좋아요 저녁 이른 시간에 맞춰가면 괜찮지만 조금만 지체되어도 대기를 제법해야합니다. 오랜 시간을 대기해서 먹기는 꺼려져요\n",
      "{'taste': 2, 'price': 2, 'atmosphere': 0, 'service': 0}\n",
      "라이너스 바베큐 이태우ㅏㄴ에  찾아가기가 꼬불꼬불 복잡하지만 잫 찾아갔어요 맛있구요  배부르게 잘 먹었어용 ㅎㅎㅎㅎ\n"
     ]
    },
    {
     "name": "stderr",
     "output_type": "stream",
     "text": [
      " 75%|██████████████████████████████████████████████████████████████▎                    | 15/20 [00:00<00:00, 27.77it/s]"
     ]
    },
    {
     "name": "stdout",
     "output_type": "stream",
     "text": [
      "{'taste': 1, 'price': 0, 'atmosphere': 0, 'service': 0}\n",
      "플레이트가 재미있어서 두번정도 방문했습니다. 그런데 저에게는 확실히 조금은 질리는 맛이기는 해요. 한번도 안드셔보셨다면 한번정도 방문하시는 것을 추천드립니다.\n",
      "{'taste': 2, 'price': 2, 'atmosphere': 0, 'service': 0}\n",
      "1.가격이 비쌈 2.먹기 불편함 (인원이 많다면 더더욱) 3.그래도 고기와 빵 야채는 맛있음 4.사이드로 선택이 많아서 좋음 5.물티슈는 필수...\n",
      "{'taste': 2, 'price': 2, 'atmosphere': 0, 'service': 2}\n",
      "친구 3명이랑 야외에서 먹어요~ 번에 고기 넣어먹으면 꿀맛이지만 웨이팅이 길때도 있어서 집가까운 친구분이 먼저 가계시면 좋습니다!\n",
      "{'taste': 4, 'price': 4, 'atmosphere': 0, 'service': 2}\n",
      "4명이서 식사를 했습니다. 4인용 플래터를 시키고 맥주를 한잔씩 했습니다. 맛이 있었으나 고기가 차가웠어요. 인테리어, 야외 분위기 좋습니다. 유명 맛집이라지만 이정도 맛을 내는 바비큐집은 다른데도 많은 것 같습니다.\n",
      "{'taste': 2, 'price': 2, 'atmosphere': 0, 'service': 2}\n",
      "피크닉테이블에서 플래터 주문해서 먹었는데 립이 엄청 커서 함께 간 사람들 모두 대만족이었구요 ㅋㅋ 사이드로 나온 빵에 고기를 끼워먹으니 이보다 더 맛있을 수 없엇어요 ㅠㅠ 소스도 취향껏 찍어먹으면 되서 좋구요, 가격이 조금 비싸지만 강추입니다 ㅎ\n",
      "{'taste': 4, 'price': 4, 'atmosphere': 0, 'service': 2}\n",
      "고기와 빵, 프렌치프라이, 샐러드 한플레이트에 넉넉한 양으로 푸짐하게 먹을 수 있어서 너무 좋았습니다. 2인 플레이트에 사이드메뉴 2가지 추가해서 먹었는데 너무 맛있었고 달빛필스너와 맥주 한가지를 같이 주문해서 먹었는데 너무 좋았습니다. 지하에 이렇게 분위기 좋은 바베큐집이 있는줄 몰랐습니다. 특별한날 여럿이 가면 더 좋을것 같습니다.\n",
      "{'taste': 0, 'price': 0, 'atmosphere': 0, 'service': 0}\n",
      "주말이라 웨이팅이 길었으나 문자서비스를 제공해서 다른 곳을 둘러보고 갈 수 있었음. 위치를 찾기 어려울 수 있으나 지도보고 가면 무리 없이 갈 수 있음. 정말 전통 미국맛! 다만 느끼한 걸 많이 못 먹는 다면 힘들 수 있음.\n"
     ]
    },
    {
     "name": "stderr",
     "output_type": "stream",
     "text": [
      "100%|███████████████████████████████████████████████████████████████████████████████████| 20/20 [00:00<00:00, 23.20it/s]"
     ]
    },
    {
     "name": "stdout",
     "output_type": "stream",
     "text": [
      "{'taste': -1, 'price': 0, 'atmosphere': 0, 'service': 0}\n",
      "큰 기대를 하고 가서 그런지 생각보다 맛이 그저 그랬어요. 사실 맛없으면 안되는 조합인데, 그냥 무난한 정도더라구요.\n",
      "{'taste': 3, 'price': 4, 'atmosphere': 0, 'service': 2}\n",
      "햄버거 하나 먹자고 이리 오래 기다려보기는 처음이네요. 그만큼 사람이 많고 인기가 대단하네요.. 분위기 좋고 맛도 괜찮지만 가격은 괜찮지 않아요..\n",
      "{'taste': 4, 'price': 3, 'atmosphere': 0, 'service': 2}\n",
      "한시간은 기다렸던 것 같다. 그래도 요즘 세상 좋아져서, 아이패드 같은 곳에 연락처 적고 웨이팅 리스트 올리면, 들어갈때 되어서 폰으로 연락이 온다. 분위기도 적당히 좋고, 맛도 양도 적당히 좋다. 그렇지만 다음에 갔을때 또 한시간이나 기다리긴 싫다.\n",
      "{'taste': 3, 'price': 1, 'atmosphere': 0, 'service': 0}\n",
      "대기해서 먹으면 실망할 맛이지만 그냥 괜찮아요. 다양한 종류를 먹는 재미가 있습니다. 평일 점심에 많이 안 기다릴 때 가세요\n"
     ]
    },
    {
     "name": "stderr",
     "output_type": "stream",
     "text": [
      "\n"
     ]
    }
   ],
   "source": [
    "for i in tqdm(range(0, 20)):\n",
    "    print(score_review(data.iloc[i]['review'], senti))\n",
    "    print(data.iloc[i]['review'])"
   ],
   "metadata": {
    "collapsed": false,
    "pycharm": {
     "name": "#%%\n"
    }
   }
  },
  {
   "cell_type": "code",
   "execution_count": 34,
   "outputs": [],
   "source": [
    "def compare_score(index:int, _data: pd.DataFrame, _senti: pd.DataFrame):\n",
    "    print('computed ->\\t', *score_review(_data.iloc[index]['review'], senti).values())\n",
    "    print('real -> \\t', *_data.iloc[index, 2:6])\n",
    "    print(_data.iloc[i]['review'])"
   ],
   "metadata": {
    "collapsed": false,
    "pycharm": {
     "name": "#%%\n"
    }
   }
  },
  {
   "cell_type": "code",
   "execution_count": 106,
   "outputs": [],
   "source": [
    "bbq = data.loc[data['name'] == '바토스 이태원점'].copy()"
   ],
   "metadata": {
    "collapsed": false,
    "pycharm": {
     "name": "#%%\n"
    }
   }
  },
  {
   "cell_type": "code",
   "execution_count": 107,
   "outputs": [],
   "source": [
    "# ['overall','taste','service','price','atmosphere']\n",
    "bbq.loc[:, 'overall'] = bbq.loc[:, 'overall'].apply(lambda x: 0 if x == -1 else x)\n",
    "bbq.loc[:, 'taste'] = bbq.loc[:, 'taste'].apply(lambda x: 0 if x == -1 else x)\n",
    "bbq.loc[:, 'service'] = bbq.loc[:, 'service'].apply(lambda x: 0 if x == -1 else x)\n",
    "bbq.loc[:, 'price'] = bbq.loc[:, 'price'].apply(lambda x: 0 if x == -1 else x)\n",
    "bbq.loc[:, 'atmosphere'] = bbq.loc[:, 'atmosphere'].apply(lambda x: 0 if x == -1 else x)"
   ],
   "metadata": {
    "collapsed": false,
    "pycharm": {
     "name": "#%%\n"
    }
   }
  },
  {
   "cell_type": "code",
   "execution_count": 108,
   "outputs": [],
   "source": [
    "def get_avg(col: pd.Series):\n",
    "    cnt = 0\n",
    "    sum = 0\n",
    "    for i in col:\n",
    "        if i != 0:\n",
    "            cnt += 1\n",
    "            sum += i\n",
    "    return sum / cnt"
   ],
   "metadata": {
    "collapsed": false,
    "pycharm": {
     "name": "#%%\n"
    }
   }
  },
  {
   "cell_type": "code",
   "execution_count": 109,
   "outputs": [
    {
     "name": "stdout",
     "output_type": "stream",
     "text": [
      "4.149862930246726\n",
      "4.444711538461538\n",
      "4.055288461538462\n",
      "3.5376602564102564\n",
      "5.0\n"
     ]
    }
   ],
   "source": [
    "print(get_avg(bbq.overall))\n",
    "print(get_avg(bbq.taste))\n",
    "print(get_avg(bbq.service))\n",
    "print(get_avg(bbq.price))\n",
    "print(get_avg(bbq.atmosphere))"
   ],
   "metadata": {
    "collapsed": false,
    "pycharm": {
     "name": "#%%\n"
    }
   }
  },
  {
   "cell_type": "code",
   "execution_count": 110,
   "outputs": [
    {
     "name": "stderr",
     "output_type": "stream",
     "text": [
      "3283it [02:35, 21.10it/s]\n"
     ]
    }
   ],
   "source": [
    "bbq_scores = pd.DataFrame([score_review(item.review, senti).values() for _, item in tqdm(bbq.iterrows())])\n",
    "bbq_scores.columns= ['taste', 'price', 'atmosphere', 'service']"
   ],
   "metadata": {
    "collapsed": false,
    "pycharm": {
     "name": "#%%\n"
    }
   }
  },
  {
   "cell_type": "code",
   "execution_count": 111,
   "outputs": [],
   "source": [
    "import numpy as np"
   ],
   "metadata": {
    "collapsed": false,
    "pycharm": {
     "name": "#%%\n"
    }
   }
  },
  {
   "cell_type": "code",
   "execution_count": 112,
   "outputs": [],
   "source": [
    "overall = []\n",
    "for i, row in bbq_scores.iterrows():\n",
    "    overall.append(np.average(row.loc[['taste', 'price', 'atmosphere', 'service']]))\n",
    "bbq_scores['overall'] = overall"
   ],
   "metadata": {
    "collapsed": false,
    "pycharm": {
     "name": "#%%\n"
    }
   }
  },
  {
   "cell_type": "code",
   "execution_count": 113,
   "outputs": [
    {
     "name": "stdout",
     "output_type": "stream",
     "text": [
      "1.6080213903743314\n",
      "3.157510564733\n",
      "2.096774193548387\n",
      "2.226958993097848\n",
      "2.0\n"
     ]
    }
   ],
   "source": [
    "print(get_avg(bbq_scores.overall))\n",
    "print(get_avg(bbq_scores.taste))\n",
    "print(get_avg(bbq_scores.service))\n",
    "print(get_avg(bbq_scores.price))\n",
    "print(get_avg(bbq_scores.atmosphere))"
   ],
   "metadata": {
    "collapsed": false,
    "pycharm": {
     "name": "#%%\n"
    }
   }
  },
  {
   "cell_type": "code",
   "execution_count": null,
   "outputs": [],
   "source": [],
   "metadata": {
    "collapsed": false,
    "pycharm": {
     "name": "#%%\n"
    }
   }
  }
 ],
 "metadata": {
  "kernelspec": {
   "display_name": "Python 3",
   "language": "python",
   "name": "python3"
  },
  "language_info": {
   "codemirror_mode": {
    "name": "ipython",
    "version": 2
   },
   "file_extension": ".py",
   "mimetype": "text/x-python",
   "name": "python",
   "nbconvert_exporter": "python",
   "pygments_lexer": "ipython2",
   "version": "2.7.6"
  }
 },
 "nbformat": 4,
 "nbformat_minor": 0
}