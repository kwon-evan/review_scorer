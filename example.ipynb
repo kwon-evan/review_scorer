{
 "cells": [
  {
   "cell_type": "code",
   "execution_count": 1,
   "outputs": [],
   "source": [
    "import sys\n",
    "import logging\n",
    "import os\n",
    "import json\n",
    "import pandas as pd\n",
    "\n",
    "date_strftime_format = \"%Y-%m-%y %H:%M:%S\"\n",
    "logging.basicConfig(stream=sys.stdout, level=logging.INFO, format=\"%(asctime)s %(message)s\", datefmt=date_strftime_format)"
   ],
   "metadata": {
    "collapsed": false,
    "pycharm": {
     "name": "#%%\n"
    }
   }
  },
  {
   "cell_type": "markdown",
   "source": [
    "# LOAD DATA"
   ],
   "metadata": {
    "collapsed": false
   }
  },
  {
   "cell_type": "code",
   "execution_count": 2,
   "outputs": [],
   "source": [
    "DATA_FOLDER = os.getcwd() + '/review_scorer/data/'\n",
    "SENTI_PATH = DATA_FOLDER + 'SentiWord_info.json'\n",
    "DATA_PATH = DATA_FOLDER + 'data_origin.csv'\n",
    "data: pd.DataFrame\n",
    "\n",
    "with open(SENTI_PATH, mode='rt', encoding='UTF8') as f:\n",
    "    senti = pd.DataFrame.from_dict(json.load(f))\n",
    "\n",
    "data = pd.read_csv(DATA_PATH, encoding='UTF8')\n",
    "data = data.dropna(axis=0)\n",
    "data = data.sample(frac=1).reset_index(drop=True)"
   ],
   "metadata": {
    "collapsed": false,
    "pycharm": {
     "name": "#%%\n"
    }
   }
  },
  {
   "cell_type": "markdown",
   "source": [
    "# TOKENIZER"
   ],
   "metadata": {
    "collapsed": false
   }
  },
  {
   "cell_type": "code",
   "execution_count": 3,
   "outputs": [
    {
     "name": "stderr",
     "output_type": "stream",
     "text": [
      "100%|████████████████████████████████████| 71904/71904 [08:24<00:00, 142.39it/s]\n"
     ]
    }
   ],
   "source": [
    "from tqdm import tqdm\n",
    "from twkorean import TwitterKoreanProcessor\n",
    "\n",
    "processor = TwitterKoreanProcessor()\n",
    "tokenize = processor.tokenize_to_strings\n",
    "tokens = [tokenize(_) for _ in tqdm(data.review)]"
   ],
   "metadata": {
    "collapsed": false,
    "pycharm": {
     "name": "#%%\n"
    }
   }
  },
  {
   "cell_type": "markdown",
   "source": [
    "# SET REVIEW SCORER"
   ],
   "metadata": {
    "collapsed": false
   }
  },
  {
   "cell_type": "code",
   "execution_count": 4,
   "outputs": [
    {
     "name": "stdout",
     "output_type": "stream",
     "text": [
      "2022-08-22 23:03:26 collecting all words and their counts\n",
      "2022-08-22 23:03:26 PROGRESS: at sentence #0, processed 0 words, keeping 0 word types\n",
      "2022-08-22 23:03:35 PROGRESS: at sentence #10000, processed 1095162 words, keeping 28199 word types\n",
      "2022-08-22 23:03:44 PROGRESS: at sentence #20000, processed 2184895 words, keeping 37831 word types\n",
      "2022-08-22 23:03:53 PROGRESS: at sentence #30000, processed 3281505 words, keeping 43753 word types\n",
      "2022-08-22 23:04:02 PROGRESS: at sentence #40000, processed 4371883 words, keeping 47443 word types\n",
      "2022-08-22 23:04:11 PROGRESS: at sentence #50000, processed 5455131 words, keeping 49746 word types\n",
      "2022-08-22 23:04:21 PROGRESS: at sentence #60000, processed 6540357 words, keeping 51127 word types\n",
      "2022-08-22 23:04:30 PROGRESS: at sentence #70000, processed 7619619 words, keeping 51656 word types\n",
      "2022-08-22 23:04:31 collected 51667 word types from a corpus of 7833944 raw words and 71904 sentences\n",
      "2022-08-22 23:04:31 Creating a fresh vocabulary\n",
      "2022-08-22 23:04:32 ReviewScorer lifecycle event {'msg': 'effective_min_count=5 retains 22483 unique words (43.52% of original 51667, drops 29184)', 'datetime': '2022-08-09T23:04:32.002959', 'gensim': '4.2.0', 'python': '3.7.12 | packaged by conda-forge | (default, Oct 26 2021, 06:08:53) \\n[GCC 9.4.0]', 'platform': 'Linux-5.4.0-65-generic-x86_64-with-debian-buster-sid', 'event': 'prepare_vocab'}\n",
      "2022-08-22 23:04:32 ReviewScorer lifecycle event {'msg': 'effective_min_count=5 leaves 7758850 word corpus (99.04% of original 7833944, drops 75094)', 'datetime': '2022-08-09T23:04:32.003858', 'gensim': '4.2.0', 'python': '3.7.12 | packaged by conda-forge | (default, Oct 26 2021, 06:08:53) \\n[GCC 9.4.0]', 'platform': 'Linux-5.4.0-65-generic-x86_64-with-debian-buster-sid', 'event': 'prepare_vocab'}\n",
      "2022-08-22 23:04:32 deleting the raw counts dictionary of 51667 items\n",
      "2022-08-22 23:04:32 sample=0.001 downsamples 48 most-common words\n",
      "2022-08-22 23:04:32 ReviewScorer lifecycle event {'msg': 'downsampling leaves estimated 6253331.339118918 word corpus (80.6%% of prior 7758850)', 'datetime': '2022-08-09T23:04:32.186814', 'gensim': '4.2.0', 'python': '3.7.12 | packaged by conda-forge | (default, Oct 26 2021, 06:08:53) \\n[GCC 9.4.0]', 'platform': 'Linux-5.4.0-65-generic-x86_64-with-debian-buster-sid', 'event': 'prepare_vocab'}\n",
      "2022-08-22 23:04:32 estimated required memory for 22483 words and 100 dimensions: 29227900 bytes\n",
      "2022-08-22 23:04:32 resetting layer weights\n",
      "2022-08-22 23:04:32 ReviewScorer lifecycle event {'update': False, 'trim_rule': 'None', 'datetime': '2022-08-09T23:04:32.467539', 'gensim': '4.2.0', 'python': '3.7.12 | packaged by conda-forge | (default, Oct 26 2021, 06:08:53) \\n[GCC 9.4.0]', 'platform': 'Linux-5.4.0-65-generic-x86_64-with-debian-buster-sid', 'event': 'build_vocab'}\n",
      "2022-08-22 23:04:32 ReviewScorer lifecycle event {'msg': 'training model with 3 workers on 22483 vocabulary and 100 features, using sg=0 hs=0 sample=0.001 negative=5 window=5 shrink_windows=True', 'datetime': '2022-08-09T23:04:32.468474', 'gensim': '4.2.0', 'python': '3.7.12 | packaged by conda-forge | (default, Oct 26 2021, 06:08:53) \\n[GCC 9.4.0]', 'platform': 'Linux-5.4.0-65-generic-x86_64-with-debian-buster-sid', 'event': 'train'}\n",
      "2022-08-22 23:04:33 EPOCH 0 - PROGRESS: at 3.01% examples, 186874 words/s, in_qsize 5, out_qsize 0\n",
      "2022-08-22 23:04:34 EPOCH 0 - PROGRESS: at 6.37% examples, 195411 words/s, in_qsize 6, out_qsize 1\n",
      "2022-08-22 23:04:35 EPOCH 0 - PROGRESS: at 9.76% examples, 199988 words/s, in_qsize 6, out_qsize 1\n",
      "2022-08-22 23:04:36 EPOCH 0 - PROGRESS: at 13.12% examples, 202459 words/s, in_qsize 6, out_qsize 0\n",
      "2022-08-22 23:04:37 EPOCH 0 - PROGRESS: at 16.54% examples, 202239 words/s, in_qsize 6, out_qsize 0\n",
      "2022-08-22 23:04:38 EPOCH 0 - PROGRESS: at 19.81% examples, 202632 words/s, in_qsize 5, out_qsize 0\n",
      "2022-08-22 23:04:39 EPOCH 0 - PROGRESS: at 23.08% examples, 201999 words/s, in_qsize 6, out_qsize 0\n",
      "2022-08-22 23:04:40 EPOCH 0 - PROGRESS: at 26.35% examples, 202135 words/s, in_qsize 6, out_qsize 0\n",
      "2022-08-22 23:04:41 EPOCH 0 - PROGRESS: at 29.64% examples, 201906 words/s, in_qsize 6, out_qsize 1\n",
      "2022-08-22 23:04:42 EPOCH 0 - PROGRESS: at 32.92% examples, 202112 words/s, in_qsize 6, out_qsize 0\n",
      "2022-08-22 23:04:43 EPOCH 0 - PROGRESS: at 36.13% examples, 202157 words/s, in_qsize 5, out_qsize 0\n",
      "2022-08-22 23:04:44 EPOCH 0 - PROGRESS: at 39.49% examples, 202717 words/s, in_qsize 6, out_qsize 0\n",
      "2022-08-22 23:04:45 EPOCH 0 - PROGRESS: at 42.68% examples, 201646 words/s, in_qsize 6, out_qsize 1\n",
      "2022-08-22 23:04:46 EPOCH 0 - PROGRESS: at 46.14% examples, 202964 words/s, in_qsize 6, out_qsize 0\n",
      "2022-08-22 23:04:47 EPOCH 0 - PROGRESS: at 49.51% examples, 202629 words/s, in_qsize 5, out_qsize 0\n",
      "2022-08-22 23:04:48 EPOCH 0 - PROGRESS: at 53.00% examples, 202529 words/s, in_qsize 5, out_qsize 0\n",
      "2022-08-22 23:04:49 EPOCH 0 - PROGRESS: at 56.30% examples, 202493 words/s, in_qsize 6, out_qsize 0\n",
      "2022-08-22 23:04:50 EPOCH 0 - PROGRESS: at 59.56% examples, 202650 words/s, in_qsize 6, out_qsize 0\n",
      "2022-08-22 23:04:51 EPOCH 0 - PROGRESS: at 62.58% examples, 201566 words/s, in_qsize 6, out_qsize 1\n",
      "2022-08-22 23:04:52 EPOCH 0 - PROGRESS: at 66.10% examples, 202043 words/s, in_qsize 5, out_qsize 0\n",
      "2022-08-22 23:04:53 EPOCH 0 - PROGRESS: at 69.39% examples, 201952 words/s, in_qsize 5, out_qsize 0\n",
      "2022-08-22 23:04:54 EPOCH 0 - PROGRESS: at 72.61% examples, 201999 words/s, in_qsize 5, out_qsize 0\n",
      "2022-08-22 23:04:55 EPOCH 0 - PROGRESS: at 75.70% examples, 201608 words/s, in_qsize 5, out_qsize 0\n",
      "2022-08-22 23:04:57 EPOCH 0 - PROGRESS: at 79.16% examples, 201738 words/s, in_qsize 6, out_qsize 1\n",
      "2022-08-22 23:04:58 EPOCH 0 - PROGRESS: at 82.44% examples, 202122 words/s, in_qsize 6, out_qsize 0\n",
      "2022-08-22 23:04:59 EPOCH 0 - PROGRESS: at 85.73% examples, 201591 words/s, in_qsize 5, out_qsize 1\n",
      "2022-08-22 23:05:00 EPOCH 0 - PROGRESS: at 89.14% examples, 201880 words/s, in_qsize 5, out_qsize 0\n",
      "2022-08-22 23:05:01 EPOCH 0 - PROGRESS: at 92.54% examples, 202212 words/s, in_qsize 5, out_qsize 0\n",
      "2022-08-22 23:05:02 EPOCH 0 - PROGRESS: at 95.85% examples, 201881 words/s, in_qsize 5, out_qsize 0\n",
      "2022-08-22 23:05:03 EPOCH 0 - PROGRESS: at 98.99% examples, 201670 words/s, in_qsize 5, out_qsize 0\n",
      "2022-08-22 23:05:03 EPOCH 0: training on 7833944 raw words (6252670 effective words) took 30.9s, 202028 effective words/s\n",
      "2022-08-22 23:05:04 EPOCH 1 - PROGRESS: at 2.99% examples, 178364 words/s, in_qsize 6, out_qsize 1\n",
      "2022-08-22 23:05:05 EPOCH 1 - PROGRESS: at 6.63% examples, 198664 words/s, in_qsize 4, out_qsize 0\n",
      "2022-08-22 23:05:06 EPOCH 1 - PROGRESS: at 9.88% examples, 199224 words/s, in_qsize 6, out_qsize 0\n",
      "2022-08-22 23:05:07 EPOCH 1 - PROGRESS: at 13.25% examples, 201032 words/s, in_qsize 5, out_qsize 0\n",
      "2022-08-22 23:05:08 EPOCH 1 - PROGRESS: at 16.54% examples, 200786 words/s, in_qsize 6, out_qsize 0\n",
      "2022-08-22 23:05:09 EPOCH 1 - PROGRESS: at 19.94% examples, 201488 words/s, in_qsize 5, out_qsize 0\n",
      "2022-08-22 23:05:10 EPOCH 1 - PROGRESS: at 23.08% examples, 200516 words/s, in_qsize 5, out_qsize 0\n",
      "2022-08-22 23:05:11 EPOCH 1 - PROGRESS: at 26.32% examples, 200426 words/s, in_qsize 6, out_qsize 0\n",
      "2022-08-22 23:05:12 EPOCH 1 - PROGRESS: at 29.64% examples, 199955 words/s, in_qsize 5, out_qsize 1\n",
      "2022-08-22 23:05:13 EPOCH 1 - PROGRESS: at 33.08% examples, 200387 words/s, in_qsize 5, out_qsize 0\n",
      "2022-08-22 23:05:14 EPOCH 1 - PROGRESS: at 36.50% examples, 201077 words/s, in_qsize 5, out_qsize 0\n",
      "2022-08-22 23:05:15 EPOCH 1 - PROGRESS: at 39.76% examples, 199277 words/s, in_qsize 6, out_qsize 4\n",
      "2022-08-22 23:05:16 EPOCH 1 - PROGRESS: at 43.32% examples, 201095 words/s, in_qsize 6, out_qsize 1\n",
      "2022-08-22 23:05:18 EPOCH 1 - PROGRESS: at 46.52% examples, 200870 words/s, in_qsize 5, out_qsize 0\n",
      "2022-08-22 23:05:19 EPOCH 1 - PROGRESS: at 50.04% examples, 200702 words/s, in_qsize 6, out_qsize 1\n",
      "2022-08-22 23:05:20 EPOCH 1 - PROGRESS: at 53.50% examples, 200348 words/s, in_qsize 6, out_qsize 1\n",
      "2022-08-22 23:05:21 EPOCH 1 - PROGRESS: at 56.96% examples, 200672 words/s, in_qsize 5, out_qsize 0\n",
      "2022-08-22 23:05:22 EPOCH 1 - PROGRESS: at 59.89% examples, 200092 words/s, in_qsize 4, out_qsize 1\n",
      "2022-08-22 23:05:23 EPOCH 1 - PROGRESS: at 63.30% examples, 200205 words/s, in_qsize 4, out_qsize 0\n",
      "2022-08-22 23:05:24 EPOCH 1 - PROGRESS: at 66.35% examples, 198950 words/s, in_qsize 5, out_qsize 2\n",
      "2022-08-22 23:05:25 EPOCH 1 - PROGRESS: at 70.14% examples, 200278 words/s, in_qsize 4, out_qsize 0\n",
      "2022-08-22 23:05:26 EPOCH 1 - PROGRESS: at 73.46% examples, 200375 words/s, in_qsize 4, out_qsize 0\n",
      "2022-08-22 23:05:27 EPOCH 1 - PROGRESS: at 76.58% examples, 199900 words/s, in_qsize 5, out_qsize 2\n",
      "2022-08-22 23:05:28 EPOCH 1 - PROGRESS: at 79.96% examples, 199490 words/s, in_qsize 6, out_qsize 1\n",
      "2022-08-22 23:05:29 EPOCH 1 - PROGRESS: at 83.26% examples, 199840 words/s, in_qsize 6, out_qsize 0\n",
      "2022-08-22 23:05:30 EPOCH 1 - PROGRESS: at 86.68% examples, 199926 words/s, in_qsize 5, out_qsize 0\n",
      "2022-08-22 23:05:31 EPOCH 1 - PROGRESS: at 90.06% examples, 199901 words/s, in_qsize 6, out_qsize 1\n",
      "2022-08-22 23:05:32 EPOCH 1 - PROGRESS: at 93.30% examples, 199984 words/s, in_qsize 5, out_qsize 0\n",
      "2022-08-22 23:05:33 EPOCH 1 - PROGRESS: at 96.77% examples, 200274 words/s, in_qsize 5, out_qsize 0\n",
      "2022-08-22 23:05:34 EPOCH 1: training on 7833944 raw words (6253407 effective words) took 31.2s, 200749 effective words/s\n",
      "2022-08-22 23:05:35 EPOCH 2 - PROGRESS: at 3.12% examples, 193565 words/s, in_qsize 5, out_qsize 0\n",
      "2022-08-22 23:05:36 EPOCH 2 - PROGRESS: at 6.51% examples, 189913 words/s, in_qsize 5, out_qsize 2\n",
      "2022-08-22 23:05:37 EPOCH 2 - PROGRESS: at 10.13% examples, 198640 words/s, in_qsize 5, out_qsize 0\n",
      "2022-08-22 23:05:38 EPOCH 2 - PROGRESS: at 13.24% examples, 195416 words/s, in_qsize 6, out_qsize 2\n",
      "2022-08-22 23:05:39 EPOCH 2 - PROGRESS: at 16.54% examples, 196915 words/s, in_qsize 6, out_qsize 0\n",
      "2022-08-22 23:05:40 EPOCH 2 - PROGRESS: at 19.67% examples, 195634 words/s, in_qsize 6, out_qsize 2\n",
      "2022-08-22 23:05:41 EPOCH 2 - PROGRESS: at 23.08% examples, 197362 words/s, in_qsize 6, out_qsize 1\n",
      "2022-08-22 23:05:42 EPOCH 2 - PROGRESS: at 26.32% examples, 197668 words/s, in_qsize 6, out_qsize 1\n",
      "2022-08-22 23:05:44 EPOCH 2 - PROGRESS: at 29.76% examples, 197791 words/s, in_qsize 6, out_qsize 0\n",
      "2022-08-22 23:05:45 EPOCH 2 - PROGRESS: at 33.21% examples, 198336 words/s, in_qsize 5, out_qsize 0\n",
      "2022-08-22 23:05:46 EPOCH 2 - PROGRESS: at 36.23% examples, 198061 words/s, in_qsize 4, out_qsize 1\n",
      "2022-08-22 23:05:47 EPOCH 2 - PROGRESS: at 39.49% examples, 197842 words/s, in_qsize 6, out_qsize 0\n",
      "2022-08-22 23:05:48 EPOCH 2 - PROGRESS: at 42.78% examples, 198888 words/s, in_qsize 6, out_qsize 0\n",
      "2022-08-22 23:05:49 EPOCH 2 - PROGRESS: at 46.03% examples, 198731 words/s, in_qsize 6, out_qsize 1\n",
      "2022-08-22 23:05:50 EPOCH 2 - PROGRESS: at 49.55% examples, 199360 words/s, in_qsize 5, out_qsize 0\n",
      "2022-08-22 23:05:51 EPOCH 2 - PROGRESS: at 52.87% examples, 199066 words/s, in_qsize 5, out_qsize 0\n",
      "2022-08-22 23:05:52 EPOCH 2 - PROGRESS: at 56.29% examples, 199443 words/s, in_qsize 6, out_qsize 0\n",
      "2022-08-22 23:05:53 EPOCH 2 - PROGRESS: at 59.33% examples, 198588 words/s, in_qsize 6, out_qsize 1\n",
      "2022-08-22 23:05:54 EPOCH 2 - PROGRESS: at 62.87% examples, 199369 words/s, in_qsize 5, out_qsize 0\n",
      "2022-08-22 23:05:55 EPOCH 2 - PROGRESS: at 66.24% examples, 199307 words/s, in_qsize 5, out_qsize 0\n",
      "2022-08-22 23:05:56 EPOCH 2 - PROGRESS: at 69.60% examples, 199491 words/s, in_qsize 6, out_qsize 0\n",
      "2022-08-22 23:05:57 EPOCH 2 - PROGRESS: at 73.05% examples, 200113 words/s, in_qsize 5, out_qsize 0\n",
      "2022-08-22 23:05:58 EPOCH 2 - PROGRESS: at 76.21% examples, 199911 words/s, in_qsize 6, out_qsize 0\n",
      "2022-08-22 23:05:59 EPOCH 2 - PROGRESS: at 79.85% examples, 200128 words/s, in_qsize 6, out_qsize 0\n",
      "2022-08-22 23:06:00 EPOCH 2 - PROGRESS: at 83.13% examples, 200465 words/s, in_qsize 5, out_qsize 0\n",
      "2022-08-22 23:06:01 EPOCH 2 - PROGRESS: at 86.19% examples, 199662 words/s, in_qsize 6, out_qsize 1\n",
      "2022-08-22 23:06:02 EPOCH 2 - PROGRESS: at 89.65% examples, 199661 words/s, in_qsize 6, out_qsize 0\n",
      "2022-08-22 23:06:03 EPOCH 2 - PROGRESS: at 93.00% examples, 199769 words/s, in_qsize 6, out_qsize 0\n",
      "2022-08-22 23:06:04 EPOCH 2 - PROGRESS: at 96.40% examples, 199883 words/s, in_qsize 5, out_qsize 0\n",
      "2022-08-22 23:06:05 EPOCH 2 - PROGRESS: at 99.60% examples, 199649 words/s, in_qsize 3, out_qsize 1\n",
      "2022-08-22 23:06:05 EPOCH 2: training on 7833944 raw words (6253457 effective words) took 31.2s, 200263 effective words/s\n",
      "2022-08-22 23:06:06 EPOCH 3 - PROGRESS: at 3.12% examples, 191997 words/s, in_qsize 5, out_qsize 0\n",
      "2022-08-22 23:06:07 EPOCH 3 - PROGRESS: at 6.25% examples, 194072 words/s, in_qsize 6, out_qsize 1\n",
      "2022-08-22 23:06:08 EPOCH 3 - PROGRESS: at 9.52% examples, 194252 words/s, in_qsize 6, out_qsize 1\n",
      "2022-08-22 23:06:09 EPOCH 3 - PROGRESS: at 13.00% examples, 199467 words/s, in_qsize 5, out_qsize 0\n",
      "2022-08-22 23:06:10 EPOCH 3 - PROGRESS: at 16.29% examples, 199370 words/s, in_qsize 6, out_qsize 0\n",
      "2022-08-22 23:06:11 EPOCH 3 - PROGRESS: at 19.43% examples, 198173 words/s, in_qsize 5, out_qsize 1\n",
      "2022-08-22 23:06:12 EPOCH 3 - PROGRESS: at 22.82% examples, 200139 words/s, in_qsize 5, out_qsize 0\n",
      "2022-08-22 23:06:13 EPOCH 3 - PROGRESS: at 25.91% examples, 199043 words/s, in_qsize 6, out_qsize 1\n",
      "2022-08-22 23:06:15 EPOCH 3 - PROGRESS: at 29.42% examples, 199464 words/s, in_qsize 6, out_qsize 0\n",
      "2022-08-22 23:06:16 EPOCH 3 - PROGRESS: at 32.64% examples, 199336 words/s, in_qsize 6, out_qsize 1\n",
      "2022-08-22 23:06:17 EPOCH 3 - PROGRESS: at 36.00% examples, 199771 words/s, in_qsize 6, out_qsize 0\n",
      "2022-08-22 23:06:18 EPOCH 3 - PROGRESS: at 39.21% examples, 199683 words/s, in_qsize 6, out_qsize 0\n",
      "2022-08-22 23:06:19 EPOCH 3 - PROGRESS: at 42.45% examples, 199630 words/s, in_qsize 5, out_qsize 0\n",
      "2022-08-22 23:06:20 EPOCH 3 - PROGRESS: at 45.52% examples, 198988 words/s, in_qsize 6, out_qsize 0\n",
      "2022-08-22 23:06:21 EPOCH 3 - PROGRESS: at 48.58% examples, 198343 words/s, in_qsize 6, out_qsize 1\n",
      "2022-08-22 23:06:22 EPOCH 3 - PROGRESS: at 51.88% examples, 198199 words/s, in_qsize 6, out_qsize 1\n",
      "2022-08-22 23:06:23 EPOCH 3 - PROGRESS: at 55.13% examples, 198306 words/s, in_qsize 6, out_qsize 1\n",
      "2022-08-22 23:06:24 EPOCH 3 - PROGRESS: at 58.58% examples, 199022 words/s, in_qsize 6, out_qsize 0\n",
      "2022-08-22 23:06:25 EPOCH 3 - PROGRESS: at 61.84% examples, 198633 words/s, in_qsize 6, out_qsize 1\n",
      "2022-08-22 23:06:26 EPOCH 3 - PROGRESS: at 65.31% examples, 198970 words/s, in_qsize 6, out_qsize 0\n",
      "2022-08-22 23:06:27 EPOCH 3 - PROGRESS: at 68.53% examples, 198685 words/s, in_qsize 6, out_qsize 1\n",
      "2022-08-22 23:06:28 EPOCH 3 - PROGRESS: at 71.92% examples, 199137 words/s, in_qsize 6, out_qsize 0\n",
      "2022-08-22 23:06:29 EPOCH 3 - PROGRESS: at 75.11% examples, 198862 words/s, in_qsize 5, out_qsize 0\n",
      "2022-08-22 23:06:30 EPOCH 3 - PROGRESS: at 78.28% examples, 198673 words/s, in_qsize 6, out_qsize 0\n",
      "2022-08-22 23:06:31 EPOCH 3 - PROGRESS: at 81.73% examples, 198653 words/s, in_qsize 6, out_qsize 0\n",
      "2022-08-22 23:06:32 EPOCH 3 - PROGRESS: at 85.20% examples, 199105 words/s, in_qsize 5, out_qsize 0\n",
      "2022-08-22 23:06:33 EPOCH 3 - PROGRESS: at 88.47% examples, 198798 words/s, in_qsize 6, out_qsize 1\n",
      "2022-08-22 23:06:34 EPOCH 3 - PROGRESS: at 91.90% examples, 198957 words/s, in_qsize 6, out_qsize 1\n",
      "2022-08-22 23:06:35 EPOCH 3 - PROGRESS: at 95.35% examples, 199221 words/s, in_qsize 5, out_qsize 0\n",
      "2022-08-22 23:06:36 EPOCH 3 - PROGRESS: at 98.46% examples, 199046 words/s, in_qsize 6, out_qsize 1\n",
      "2022-08-22 23:06:37 EPOCH 3: training on 7833944 raw words (6252053 effective words) took 31.3s, 199631 effective words/s\n",
      "2022-08-22 23:06:38 EPOCH 4 - PROGRESS: at 3.01% examples, 186482 words/s, in_qsize 6, out_qsize 1\n",
      "2022-08-22 23:06:39 EPOCH 4 - PROGRESS: at 6.39% examples, 195936 words/s, in_qsize 5, out_qsize 0\n",
      "2022-08-22 23:06:40 EPOCH 4 - PROGRESS: at 9.49% examples, 194715 words/s, in_qsize 6, out_qsize 0\n",
      "2022-08-22 23:06:41 EPOCH 4 - PROGRESS: at 13.00% examples, 197134 words/s, in_qsize 5, out_qsize 0\n",
      "2022-08-22 23:06:42 EPOCH 4 - PROGRESS: at 16.29% examples, 197040 words/s, in_qsize 6, out_qsize 1\n",
      "2022-08-22 23:06:43 EPOCH 4 - PROGRESS: at 19.54% examples, 198013 words/s, in_qsize 5, out_qsize 0\n",
      "2022-08-22 23:06:44 EPOCH 4 - PROGRESS: at 22.96% examples, 198502 words/s, in_qsize 4, out_qsize 0\n",
      "2022-08-22 23:06:45 EPOCH 4 - PROGRESS: at 26.35% examples, 198089 words/s, in_qsize 6, out_qsize 1\n",
      "2022-08-22 23:06:46 EPOCH 4 - PROGRESS: at 29.76% examples, 199602 words/s, in_qsize 5, out_qsize 0\n",
      "2022-08-22 23:06:47 EPOCH 4 - PROGRESS: at 33.08% examples, 199306 words/s, in_qsize 5, out_qsize 0\n",
      "2022-08-22 23:06:48 EPOCH 4 - PROGRESS: at 36.36% examples, 199530 words/s, in_qsize 6, out_qsize 0\n",
      "2022-08-22 23:06:49 EPOCH 4 - PROGRESS: at 39.62% examples, 199005 words/s, in_qsize 6, out_qsize 0\n",
      "2022-08-22 23:06:50 EPOCH 4 - PROGRESS: at 42.67% examples, 198555 words/s, in_qsize 5, out_qsize 0\n",
      "2022-08-22 23:06:51 EPOCH 4 - PROGRESS: at 45.88% examples, 198127 words/s, in_qsize 6, out_qsize 1\n",
      "2022-08-22 23:06:52 EPOCH 4 - PROGRESS: at 49.24% examples, 198289 words/s, in_qsize 6, out_qsize 0\n",
      "2022-08-22 23:06:53 EPOCH 4 - PROGRESS: at 52.49% examples, 198186 words/s, in_qsize 6, out_qsize 0\n",
      "2022-08-22 23:06:54 EPOCH 4 - PROGRESS: at 55.78% examples, 197921 words/s, in_qsize 6, out_qsize 0\n",
      "2022-08-22 23:06:55 EPOCH 4 - PROGRESS: at 59.21% examples, 198327 words/s, in_qsize 6, out_qsize 0\n",
      "2022-08-22 23:06:56 EPOCH 4 - PROGRESS: at 62.46% examples, 197958 words/s, in_qsize 6, out_qsize 0\n",
      "2022-08-22 23:06:57 EPOCH 4 - PROGRESS: at 65.84% examples, 197640 words/s, in_qsize 6, out_qsize 1\n",
      "2022-08-22 23:06:59 EPOCH 4 - PROGRESS: at 69.15% examples, 197801 words/s, in_qsize 5, out_qsize 0\n",
      "2022-08-22 23:07:00 EPOCH 4 - PROGRESS: at 72.40% examples, 197872 words/s, in_qsize 6, out_qsize 0\n",
      "2022-08-22 23:07:01 EPOCH 4 - PROGRESS: at 75.47% examples, 197614 words/s, in_qsize 6, out_qsize 2\n",
      "2022-08-22 23:07:02 EPOCH 4 - PROGRESS: at 78.87% examples, 197754 words/s, in_qsize 6, out_qsize 1\n",
      "2022-08-22 23:07:03 EPOCH 4 - PROGRESS: at 82.20% examples, 198048 words/s, in_qsize 6, out_qsize 0\n",
      "2022-08-22 23:07:04 EPOCH 4 - PROGRESS: at 85.46% examples, 197840 words/s, in_qsize 6, out_qsize 0\n",
      "2022-08-22 23:07:05 EPOCH 4 - PROGRESS: at 88.87% examples, 198276 words/s, in_qsize 5, out_qsize 0\n",
      "2022-08-22 23:07:06 EPOCH 4 - PROGRESS: at 92.12% examples, 198052 words/s, in_qsize 6, out_qsize 0\n",
      "2022-08-22 23:07:07 EPOCH 4 - PROGRESS: at 95.48% examples, 198231 words/s, in_qsize 5, out_qsize 0\n",
      "2022-08-22 23:07:08 EPOCH 4 - PROGRESS: at 98.71% examples, 198292 words/s, in_qsize 5, out_qsize 0\n",
      "2022-08-22 23:07:08 EPOCH 4: training on 7833944 raw words (6253872 effective words) took 31.5s, 198739 effective words/s\n",
      "2022-08-22 23:07:08 ReviewScorer lifecycle event {'msg': 'training on 39169720 raw words (31265459 effective words) took 156.1s, 200252 effective words/s', 'datetime': '2022-08-09T23:07:08.599592', 'gensim': '4.2.0', 'python': '3.7.12 | packaged by conda-forge | (default, Oct 26 2021, 06:08:53) \\n[GCC 9.4.0]', 'platform': 'Linux-5.4.0-65-generic-x86_64-with-debian-buster-sid', 'event': 'train'}\n",
      "2022-08-22 23:07:08 ReviewScorer lifecycle event {'params': 'ReviewScorer<vocab=22483, vector_size=100, alpha=0.025>', 'datetime': '2022-08-09T23:07:08.600418', 'gensim': '4.2.0', 'python': '3.7.12 | packaged by conda-forge | (default, Oct 26 2021, 06:08:53) \\n[GCC 9.4.0]', 'platform': 'Linux-5.4.0-65-generic-x86_64-with-debian-buster-sid', 'event': 'created'}\n"
     ]
    }
   ],
   "source": [
    "from review_scorer import ReviewScorer\n",
    "\n",
    "# Review scorer needs tokens of datas to train when initializing it.\n",
    "# 리뷰 채점기 클래스를 생성할 때, 토크나이즈 된 데이터를 인자로 주어야 합니다.\n",
    "rs = ReviewScorer(sentences=tokens, senti_dict_path=SENTI_PATH)"
   ],
   "metadata": {
    "collapsed": false,
    "pycharm": {
     "name": "#%%\n"
    }
   }
  },
  {
   "cell_type": "markdown",
   "metadata": {},
   "source": [
    "## TAGGING RIVIEW SCORER's SENTIMENTAL DICTIONARY"
   ]
  },
  {
   "cell_type": "code",
   "execution_count": 6,
   "metadata": {
    "collapsed": false,
    "jupyter": {
     "outputs_hidden": false
    },
    "pycharm": {
     "name": "#%%\n"
    }
   },
   "outputs": [
    {
     "name": "stdout",
     "output_type": "stream",
     "text": [
      "2022-08-22 23:07:23 tagging taste\n"
     ]
    },
    {
     "ename": "TypeError",
     "evalue": "only list-like objects are allowed to be passed to isin(), you passed a [NoneType]",
     "output_type": "error",
     "traceback": [
      "\u001B[0;31m---------------------------------------------------------------------------\u001B[0m",
      "\u001B[0;31mTypeError\u001B[0m                                 Traceback (most recent call last)",
      "\u001B[0;32m/tmp/ipykernel_16595/762268751.py\u001B[0m in \u001B[0;36m<module>\u001B[0;34m\u001B[0m\n\u001B[1;32m      4\u001B[0m                    \u001B[0;34m'price'\u001B[0m\u001B[0;34m:\u001B[0m \u001B[0;34m[\u001B[0m\u001B[0;34m'가격'\u001B[0m\u001B[0;34m,\u001B[0m \u001B[0;34m'싸다'\u001B[0m\u001B[0;34m,\u001B[0m \u001B[0;34m'비싸다'\u001B[0m\u001B[0;34m,\u001B[0m \u001B[0;34m'저렴'\u001B[0m\u001B[0;34m]\u001B[0m\u001B[0;34m,\u001B[0m\u001B[0;34m\u001B[0m\u001B[0;34m\u001B[0m\u001B[0m\n\u001B[1;32m      5\u001B[0m                    \u001B[0;34m'service'\u001B[0m\u001B[0;34m:\u001B[0m \u001B[0;34m[\u001B[0m\u001B[0;34m'서비스'\u001B[0m\u001B[0;34m,\u001B[0m \u001B[0;34m'친절'\u001B[0m\u001B[0;34m,\u001B[0m \u001B[0;34m'싸가지'\u001B[0m\u001B[0;34m]\u001B[0m\u001B[0;34m,\u001B[0m\u001B[0;34m\u001B[0m\u001B[0;34m\u001B[0m\u001B[0m\n\u001B[0;32m----> 6\u001B[0;31m                    'atmosphere': ['인테리어', '분위기']}, topn=500)\n\u001B[0m",
      "\u001B[0;32m~/PycharmProjects/review_scorer/review_scorer/review_scorer2.py\u001B[0m in \u001B[0;36mtag\u001B[0;34m(self, categories, topn)\u001B[0m\n\u001B[1;32m     52\u001B[0m             \u001B[0mlogger\u001B[0m\u001B[0;34m.\u001B[0m\u001B[0minfo\u001B[0m\u001B[0;34m(\u001B[0m\u001B[0;34mf'tagging {category}'\u001B[0m\u001B[0;34m)\u001B[0m\u001B[0;34m\u001B[0m\u001B[0;34m\u001B[0m\u001B[0m\n\u001B[1;32m     53\u001B[0m             \u001B[0mself\u001B[0m\u001B[0;34m.\u001B[0m\u001B[0msenti\u001B[0m\u001B[0;34m[\u001B[0m\u001B[0mcategory\u001B[0m\u001B[0;34m]\u001B[0m \u001B[0;34m=\u001B[0m \u001B[0;32mFalse\u001B[0m\u001B[0;34m\u001B[0m\u001B[0;34m\u001B[0m\u001B[0m\n\u001B[0;32m---> 54\u001B[0;31m             \u001B[0mself\u001B[0m\u001B[0;34m.\u001B[0m\u001B[0msenti\u001B[0m\u001B[0;34m.\u001B[0m\u001B[0mloc\u001B[0m\u001B[0;34m[\u001B[0m\u001B[0mself\u001B[0m\u001B[0;34m.\u001B[0m\u001B[0mget_similar_words_indexes\u001B[0m\u001B[0;34m(\u001B[0m\u001B[0mwords\u001B[0m\u001B[0;34m=\u001B[0m\u001B[0mwords\u001B[0m\u001B[0;34m,\u001B[0m \u001B[0mtopn\u001B[0m\u001B[0;34m=\u001B[0m\u001B[0mtopn\u001B[0m\u001B[0;34m)\u001B[0m\u001B[0;34m,\u001B[0m \u001B[0mcategory\u001B[0m\u001B[0;34m]\u001B[0m \u001B[0;34m=\u001B[0m \u001B[0;32mTrue\u001B[0m\u001B[0;34m\u001B[0m\u001B[0;34m\u001B[0m\u001B[0m\n\u001B[0m\u001B[1;32m     55\u001B[0m         \u001B[0mself\u001B[0m\u001B[0;34m.\u001B[0m\u001B[0mis_tagged\u001B[0m \u001B[0;34m=\u001B[0m \u001B[0;32mTrue\u001B[0m\u001B[0;34m\u001B[0m\u001B[0;34m\u001B[0m\u001B[0m\n\u001B[1;32m     56\u001B[0m \u001B[0;34m\u001B[0m\u001B[0m\n",
      "\u001B[0;32m~/PycharmProjects/review_scorer/review_scorer/review_scorer2.py\u001B[0m in \u001B[0;36mget_similar_words_indexes\u001B[0;34m(self, words, topn)\u001B[0m\n\u001B[1;32m     44\u001B[0m     \u001B[0;32mdef\u001B[0m \u001B[0mget_similar_words_indexes\u001B[0m\u001B[0;34m(\u001B[0m\u001B[0mself\u001B[0m\u001B[0;34m,\u001B[0m \u001B[0mwords\u001B[0m\u001B[0;34m:\u001B[0m \u001B[0mList\u001B[0m\u001B[0;34m[\u001B[0m\u001B[0mstr\u001B[0m\u001B[0;34m]\u001B[0m\u001B[0;34m,\u001B[0m \u001B[0mtopn\u001B[0m\u001B[0;34m:\u001B[0m \u001B[0mint\u001B[0m \u001B[0;34m=\u001B[0m \u001B[0;36m100\u001B[0m\u001B[0;34m)\u001B[0m\u001B[0;34m:\u001B[0m\u001B[0;34m\u001B[0m\u001B[0;34m\u001B[0m\u001B[0m\n\u001B[1;32m     45\u001B[0m         \u001B[0mwords_set\u001B[0m \u001B[0;34m=\u001B[0m \u001B[0mset\u001B[0m\u001B[0;34m(\u001B[0m\u001B[0mw\u001B[0m\u001B[0;34m[\u001B[0m\u001B[0;36m0\u001B[0m\u001B[0;34m]\u001B[0m \u001B[0;32mfor\u001B[0m \u001B[0mword\u001B[0m \u001B[0;32min\u001B[0m \u001B[0mwords\u001B[0m \u001B[0;32mfor\u001B[0m \u001B[0mw\u001B[0m \u001B[0;32min\u001B[0m \u001B[0mself\u001B[0m\u001B[0;34m.\u001B[0m\u001B[0mwv\u001B[0m\u001B[0;34m.\u001B[0m\u001B[0mmost_similar\u001B[0m\u001B[0;34m(\u001B[0m\u001B[0mword\u001B[0m\u001B[0;34m,\u001B[0m \u001B[0mtopn\u001B[0m\u001B[0;34m=\u001B[0m\u001B[0mtopn\u001B[0m\u001B[0;34m)\u001B[0m\u001B[0;34m)\u001B[0m\u001B[0;34m.\u001B[0m\u001B[0mupdate\u001B[0m\u001B[0;34m(\u001B[0m\u001B[0mwords\u001B[0m\u001B[0;34m)\u001B[0m\u001B[0;34m\u001B[0m\u001B[0;34m\u001B[0m\u001B[0m\n\u001B[0;32m---> 46\u001B[0;31m         \u001B[0mresult\u001B[0m \u001B[0;34m=\u001B[0m \u001B[0mself\u001B[0m\u001B[0;34m.\u001B[0m\u001B[0msenti\u001B[0m\u001B[0;34m[\u001B[0m\u001B[0;34m'word'\u001B[0m\u001B[0;34m]\u001B[0m\u001B[0;34m.\u001B[0m\u001B[0misin\u001B[0m\u001B[0;34m(\u001B[0m\u001B[0mwords_set\u001B[0m\u001B[0;34m)\u001B[0m \u001B[0;34m|\u001B[0m \u001B[0mself\u001B[0m\u001B[0;34m.\u001B[0m\u001B[0msenti\u001B[0m\u001B[0;34m[\u001B[0m\u001B[0;34m'word_root'\u001B[0m\u001B[0;34m]\u001B[0m\u001B[0;34m.\u001B[0m\u001B[0misin\u001B[0m\u001B[0;34m(\u001B[0m\u001B[0mwords_set\u001B[0m\u001B[0;34m)\u001B[0m\u001B[0;34m\u001B[0m\u001B[0;34m\u001B[0m\u001B[0m\n\u001B[0m\u001B[1;32m     47\u001B[0m         \u001B[0;32mreturn\u001B[0m \u001B[0mresult\u001B[0m\u001B[0;34m\u001B[0m\u001B[0;34m\u001B[0m\u001B[0m\n\u001B[1;32m     48\u001B[0m \u001B[0;34m\u001B[0m\u001B[0m\n",
      "\u001B[0;32m~/anaconda3/envs/pytorch/lib/python3.7/site-packages/pandas/core/series.py\u001B[0m in \u001B[0;36misin\u001B[0;34m(self, values)\u001B[0m\n\u001B[1;32m   5023\u001B[0m         \u001B[0mdtype\u001B[0m\u001B[0;34m:\u001B[0m \u001B[0mbool\u001B[0m\u001B[0;34m\u001B[0m\u001B[0;34m\u001B[0m\u001B[0m\n\u001B[1;32m   5024\u001B[0m         \"\"\"\n\u001B[0;32m-> 5025\u001B[0;31m         \u001B[0mresult\u001B[0m \u001B[0;34m=\u001B[0m \u001B[0malgorithms\u001B[0m\u001B[0;34m.\u001B[0m\u001B[0misin\u001B[0m\u001B[0;34m(\u001B[0m\u001B[0mself\u001B[0m\u001B[0;34m.\u001B[0m\u001B[0m_values\u001B[0m\u001B[0;34m,\u001B[0m \u001B[0mvalues\u001B[0m\u001B[0;34m)\u001B[0m\u001B[0;34m\u001B[0m\u001B[0;34m\u001B[0m\u001B[0m\n\u001B[0m\u001B[1;32m   5026\u001B[0m         return self._constructor(result, index=self.index).__finalize__(\n\u001B[1;32m   5027\u001B[0m             \u001B[0mself\u001B[0m\u001B[0;34m,\u001B[0m \u001B[0mmethod\u001B[0m\u001B[0;34m=\u001B[0m\u001B[0;34m\"isin\"\u001B[0m\u001B[0;34m\u001B[0m\u001B[0;34m\u001B[0m\u001B[0m\n",
      "\u001B[0;32m~/anaconda3/envs/pytorch/lib/python3.7/site-packages/pandas/core/algorithms.py\u001B[0m in \u001B[0;36misin\u001B[0;34m(comps, values)\u001B[0m\n\u001B[1;32m    458\u001B[0m     \u001B[0;32mif\u001B[0m \u001B[0;32mnot\u001B[0m \u001B[0mis_list_like\u001B[0m\u001B[0;34m(\u001B[0m\u001B[0mvalues\u001B[0m\u001B[0;34m)\u001B[0m\u001B[0;34m:\u001B[0m\u001B[0;34m\u001B[0m\u001B[0;34m\u001B[0m\u001B[0m\n\u001B[1;32m    459\u001B[0m         raise TypeError(\n\u001B[0;32m--> 460\u001B[0;31m             \u001B[0;34m\"only list-like objects are allowed to be passed \"\u001B[0m\u001B[0;34m\u001B[0m\u001B[0;34m\u001B[0m\u001B[0m\n\u001B[0m\u001B[1;32m    461\u001B[0m             \u001B[0;34mf\"to isin(), you passed a [{type(values).__name__}]\"\u001B[0m\u001B[0;34m\u001B[0m\u001B[0;34m\u001B[0m\u001B[0m\n\u001B[1;32m    462\u001B[0m         )\n",
      "\u001B[0;31mTypeError\u001B[0m: only list-like objects are allowed to be passed to isin(), you passed a [NoneType]"
     ]
    }
   ],
   "source": [
    "# Tagging review scorer's sentimental dictionary by category.\n",
    "# 카테고리에 따라 리뷰 채점기의 감성사전을 태깅합니다.\n",
    "rs.tag(categories={'taste': ['맛', '맛있다', '맛없다'],\n",
    "                   'price': ['가격', '싸다', '비싸다', '저렴'],\n",
    "                   'service': ['서비스', '친절', '싸가지'],\n",
    "                   'atmosphere': ['인테리어', '분위기']}, topn=500)"
   ]
  },
  {
   "cell_type": "markdown",
   "metadata": {},
   "source": [
    "# SCORING WITH REVIEW SCORER"
   ]
  },
  {
   "cell_type": "code",
   "execution_count": null,
   "metadata": {},
   "outputs": [],
   "source": [
    "start = 50000\n",
    "for i in range(start, start + 10):\n",
    "    print('index: ', i)\n",
    "    print(rs.score_review(tokenize(data.review.iloc[i])))\n",
    "    print(data.review.iloc[i])\n",
    "    print()"
   ]
  },
  {
   "cell_type": "code",
   "execution_count": null,
   "metadata": {},
   "outputs": [],
   "source": []
  }
 ],
 "metadata": {
  "kernelspec": {
   "display_name": "Python 3 (ipykernel)",
   "language": "python",
   "name": "python3"
  },
  "language_info": {
   "codemirror_mode": {
    "name": "ipython",
    "version": 3
   },
   "file_extension": ".py",
   "mimetype": "text/x-python",
   "name": "python",
   "nbconvert_exporter": "python",
   "pygments_lexer": "ipython3",
   "version": "3.7.12"
  }
 },
 "nbformat": 4,
 "nbformat_minor": 4
}