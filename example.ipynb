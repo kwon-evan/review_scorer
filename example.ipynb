{
 "cells": [
  {
   "cell_type": "markdown",
   "metadata": {},
   "source": [
    "# LOAD DATA"
   ]
  },
  {
   "cell_type": "code",
   "execution_count": 1,
   "metadata": {
    "collapsed": false,
    "jupyter": {
     "outputs_hidden": false
    },
    "pycharm": {
     "name": "#%%\n"
    }
   },
   "outputs": [],
   "source": [
    "import os\n",
    "import json\n",
    "import pandas as pd\n",
    "\n",
    "DATA_FOLDER = os.getcwd() + '/review_scorer/data/'\n",
    "SENTI_PATH = DATA_FOLDER + 'SentiWord_info.json'\n",
    "DATA_PATH = DATA_FOLDER + 'data_origin.csv'\n",
    "data: pd.DataFrame\n",
    "\n",
    "with open(SENTI_PATH, mode='rt', encoding='UTF8') as f:\n",
    "    senti = pd.DataFrame.from_dict(json.load(f))\n",
    "\n",
    "data = pd.read_csv(DATA_PATH, encoding='UTF8')\n",
    "data = data.dropna(axis=0)\n",
    "data = data.sample(frac=1).reset_index(drop=True)"
   ]
  },
  {
   "cell_type": "markdown",
   "metadata": {},
   "source": [
    "# TOKENIZER"
   ]
  },
  {
   "cell_type": "code",
   "execution_count": 2,
   "metadata": {
    "collapsed": false,
    "jupyter": {
     "outputs_hidden": false
    },
    "pycharm": {
     "name": "#%%\n"
    }
   },
   "outputs": [
    {
     "name": "stderr",
     "output_type": "stream",
     "text": [
      "100%|████████████████████████████████████| 71904/71904 [09:05<00:00, 131.86it/s]\n"
     ]
    }
   ],
   "source": [
    "from tqdm import tqdm\n",
    "from twkorean import TwitterKoreanProcessor\n",
    "\n",
    "processor = TwitterKoreanProcessor()\n",
    "tokenize = processor.tokenize_to_strings\n",
    "tokens = [tokenize(_) for _ in tqdm(data.review)]"
   ]
  },
  {
   "cell_type": "markdown",
   "metadata": {},
   "source": [
    "# SET REVIEW SCORER"
   ]
  },
  {
   "cell_type": "code",
   "execution_count": null,
   "metadata": {
    "collapsed": false,
    "jupyter": {
     "outputs_hidden": false
    },
    "pycharm": {
     "name": "#%%\n"
    }
   },
   "outputs": [],
   "source": [
    "from review_scorer import ReviewScorer\n",
    "\n",
    "# Review scorer needs tokens of datas to train when initializing it.\n",
    "# 리뷰 채점기 클래스를 생성할 때, 토크나이즈 된 데이터를 인자로 주어야 합니다.\n",
    "rs = ReviewScorer(tokens=tokens, senti_dict_path=SENTI_PATH)"
   ]
  },
  {
   "cell_type": "markdown",
   "metadata": {},
   "source": [
    "## TAGGING RIVIEW SCORER's SENTIMENTAL DICTIONARY"
   ]
  },
  {
   "cell_type": "code",
   "execution_count": 10,
   "metadata": {
    "collapsed": false,
    "jupyter": {
     "outputs_hidden": false
    },
    "pycharm": {
     "name": "#%%\n"
    }
   },
   "outputs": [],
   "source": [
    "# Tagging review scorer's sentimental dictionary by category.\n",
    "# 카테고리에 따라 리뷰 채점기의 감성사전을 태깅합니다.\n",
    "rs.tag_senti_dict(categories={'taste': ['맛', '맛있다', '맛없다'],\n",
    "                              'price': ['가격', '싸다', '비싸다', '저렴'],\n",
    "                              'service': ['서비스', '친절', '싸가지'],\n",
    "                              'atmosphere': ['인테리어', '분위기']},\n",
    "                  topn=500)"
   ]
  },
  {
   "cell_type": "markdown",
   "metadata": {},
   "source": [
    "# SCORING WITH REVIEW SCORER"
   ]
  },
  {
   "cell_type": "code",
   "execution_count": 11,
   "metadata": {},
   "outputs": [
    {
     "name": "stdout",
     "output_type": "stream",
     "text": [
      "index:  50000\n",
      "{'taste': 2, 'price': 2, 'service': 0, 'atmosphere': 0}\n",
      "칼국수 꼬들꼬들 맛있다. 만두도 괘안코~\n",
      "\n",
      "index:  50001\n",
      "{'taste': 9, 'price': 6, 'service': 0, 'atmosphere': 0}\n",
      "분위기부터 맛, 서비스까지 모두 만족스러웠던 로바다야키!모두들 베스트로 꼽은 건 닭껍질!아직도 그 바삭함과 쫄깃함이 생각날 정도ㅠㅠ바로 구워서 주는 닭껍질은 정말...말을 잇지 못한다개인적으로 또다른 베스트는 닭 안창살!쫄깃한 식감이 아주 맘에 들었다닭가슴연골은 오독오독한 식감이 매력적이었다.재방문하면 이렇게 세가지는 꼭 먹을듯!!모듬채소구이도 고기만 먹기엔 죄스러운 마음을 달래주기 딱 좋고ㅎㅎ재료 식감도 하나하나 살아있어서 더 좋았다. 가지는 특이하게 양념해서 가쓰오부시까지 올라가 있었다 굿!양배추조차 왜이리 맛있는지..미소로 양념한 메로구이도 맛있었다! 메로구이니까 맛있을 수밖에ㅎㅎㅎ퀄리티가 떨어진다고 서비스로 주신 랍스터꼬리마저 괜찮았다!재방문한다면 우니타코였나..우니와 낙지를 섞은 요리와 브리치즈구이도 도전해보고싶다!!대부분 다찌형식?이지만 다행히! 테이블이 있어서 좋은 사람들과 즐거운시간을 보낼 수 있어 더욱 좋았던 밋업;)다만 넷까지는 괜찮지만, 다섯명이 앉는다면 한명의 희생이 필요한 자리ㅠㅠ재방문의사는 완전 있음!! 조용한 분위기라 두명이서 오붓하게 와서 사케 한잔씩 해도 정말정말 좋을 것 같다\n",
      "\n",
      "index:  50002\n",
      "{'taste': 0, 'price': 0, 'service': 0, 'atmosphere': 0}\n",
      "Simple, vibrant, tastes like a simple seaside restaurant in Spain\n",
      "\n",
      "index:  50003\n",
      "{'taste': 11, 'price': 6, 'service': 2, 'atmosphere': 4}\n",
      "식당 분위기도 딱 일본에 있는 느낌! 외관에서 굉장히 멋드러진 구 가옥같은 느낌을 받았고 인스타 사진각 딱 나오는 깔끔한 내부 인테리어와 직원분들 정말 친절하시고 좋았습니다 .이곳에 시그니쳐 메뉴인 민물과 바다장어 덮밥 그리고 텐동을 시켰는데 전부다 실패 없이 너무 맛있게 먹었으며 바다와 민물의 차이리면 바다 장어가 잔가시가 좀 강한 편이었고 민물 장어가 좀 부드러운 잔가시 그리고 민물장어가 조금더 탱탱한 식감이 좋았습니다. (그리 극적인 차이는 아님)  텐동도 튀김에 적당히 베인 소스가 입맛을 돋궈주는데 충분했고 무엇보다 밥알 하나 하나 식감이 너무 괜찮았던 집 하지만 뭔가 너무 정형화된 맛이 한편으로 느껴지긴 했는데 ..컴퓨터로 그려진 그림과  사람손에서 그려진 그림의 느낌이 다르듯이 음식에도 그런 느낌이 나는건 기분 탓이겠죠 ^^\n",
      "\n",
      "index:  50004\n",
      "{'taste': 3, 'price': 2, 'service': 0, 'atmosphere': 2}\n",
      "워낙 파스타로 정평이 나있는 뚜또베네에 한 세 달 전 쯤 방문했음.모든 것을 감안하고 딱 분위기랑 맛만으로 평가를하자면 우선 분위기는 뭔가.. 편안하지는 않다가 첫 느낌. 뭔가 음악도 이상하고 분위기도 약간 어려운 느낌이었고 비지니스맨들이 접대할 때 모일 것 같은 그런 느낌. 서비스도 약간 딱딱한 느낌.명란 링귀네와 세이지버터따야린을 시켰음.명란 링귀네 충분히 맛있음. 면 익힘도 좋고 면발에 정말 촘촘히 붙어있는 명란들이 간을 잡아줌. 약간 아쉬운건 너무 한식같은 맛이었다는거! 문제는 이 세이지버터따야린..좀 기대를 많이 한 탓인지 약간 실망 전혀 어떤 부재료 들어가지않고 면 노른자 소스그리고 한 120그람정도 되보이는 면이..27000...약간 믿을 수 없었지만 삭 비벼서 풍부한 향을 기대하고 입에 넣었는데..이건 너무 평범한데..?맛이 없은건 아니지만 약간 허무할 뿐 내가 아는 따야린 면은 굉장히 고소한 맛이 나고또각또각 씹히는데 뭐하나 특출나지는 않았음!아 참 식전빵은 너무 딱딱.. 분위기와 위치가 좋았으면 다시 갈지도 모르겠지만 그마저도 아니기에 ㅠㅠ 안갈 듯 합니다.그래도 맛없다는 아니기에 괜찮다로..\n",
      "\n",
      "index:  50005\n",
      "{'taste': 0, 'price': 0, 'service': 0, 'atmosphere': 0}\n",
      "고기가 입에서 살살 녹더라구요재방문 의사 있어요\n",
      "\n",
      "index:  50006\n",
      "{'taste': 5, 'price': 4, 'service': 0, 'atmosphere': 0}\n",
      "**수육 한접시의 행복을 느끼고 싶다면 오래된 수육 맛집인 평산옥. 1인1접시 기본으로 주문 필수!양도 많고 부드러워서 술술 잘 넘어감. 별미인 열무국수랑 먹으면 찰떡궁합. 저렴한 가격에 잘 먹고 갈 수 있는 곳 부산역에 내리자마자 수육 맛집으로 고고 :)\n",
      "\n",
      "index:  50007\n",
      "{'taste': 0, 'price': 0, 'service': 0, 'atmosphere': 0}\n",
      "맛잌ㅅ음\n",
      "\n",
      "index:  50008\n",
      "{'taste': 4, 'price': 5, 'service': 1, 'atmosphere': 2}\n",
      "설렁탕 특 안에 괴물 고기가 있다. 고기가 발바닥만하다고 하면 좀 표현이 그렇지만 정말 크고 두툼한 스테이크같은 수육이 들어있음. 친구가 특으로 먹으면 수육이 필요가 없다고 했는데 진짜로 고기가 많긴하다. 국물은 뽀얀 색만큼이나 진함.근데 다른 때 방문하여 수육을 맛봤는데 아고, 여기 수육 완전 맛있네.. 머릿고기며 우설이며… 너무 맛있게 잘 삶았다. 야들야들보단 적당히 쫄깃하고 고기맛이 진하게 나는 수육이다. 양도 꽤 있지만 맛있어서 금방 흡입함. 막 썰어서 막 담은거 같아서 수육의 가지런한 이쁨은 없지만 맛있으니 됐다\n",
      "\n",
      "index:  50009\n",
      "{'taste': 5, 'price': 4, 'service': 0, 'atmosphere': 0}\n",
      "현재는 전화로 사전 예약 후 방문할 수 있습니다.저는 평일 런치 1부로 다녀왔어요.예약시간보다 늦게 도착하면 그만큼 식사시간이 짧아지니 절대 늦지 마시길! 제가 식사한 때에 늦으신 분이 계셨는데 그래도 요리사님이 잘 신경써 주시더라고요. 힌편의 쇼를 보는듯 식사시간이 즐거웠어요. 밥 양도 계속 체쿠해 주시고, 어떻게 먹어야 더 맛있는지 일일이 설명해 주셔서 더 좋았습니다!1인 혹은 2인이 가야할 것 같아요. ㅎㅎ\n",
      "\n"
     ]
    }
   ],
   "source": [
    "start = 50000\n",
    "for i in range(start, start + 10):\n",
    "    print('index: ', i)\n",
    "    print(rs.score_review(tokenize(data.review.iloc[i])))\n",
    "    print(data.review.iloc[i])\n",
    "    print()"
   ]
  },
  {
   "cell_type": "code",
   "execution_count": null,
   "metadata": {},
   "outputs": [],
   "source": []
  }
 ],
 "metadata": {
  "kernelspec": {
   "display_name": "Python 3 (ipykernel)",
   "language": "python",
   "name": "python3"
  },
  "language_info": {
   "codemirror_mode": {
    "name": "ipython",
    "version": 3
   },
   "file_extension": ".py",
   "mimetype": "text/x-python",
   "name": "python",
   "nbconvert_exporter": "python",
   "pygments_lexer": "ipython3",
   "version": "3.7.12"
  }
 },
 "nbformat": 4,
 "nbformat_minor": 4
}
