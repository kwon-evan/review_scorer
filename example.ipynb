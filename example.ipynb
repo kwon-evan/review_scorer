{
 "cells": [
  {
   "cell_type": "code",
   "execution_count": 1,
   "outputs": [],
   "source": [
    "import sys\n",
    "import logging\n",
    "import os\n",
    "import json\n",
    "import pandas as pd\n",
    "\n",
    "date_strftime_format = \"%Y-%m-%y %H:%M:%S\"\n",
    "logging.basicConfig(stream=sys.stdout, level=logging.INFO, format=\"%(asctime)s %(message)s\", datefmt=date_strftime_format)"
   ],
   "metadata": {
    "collapsed": false,
    "pycharm": {
     "name": "#%%\n"
    }
   }
  },
  {
   "cell_type": "markdown",
   "source": [
    "# LOAD DATA"
   ],
   "metadata": {
    "collapsed": false
   }
  },
  {
   "cell_type": "code",
   "execution_count": 2,
   "outputs": [],
   "source": [
    "DATA_FOLDER = os.getcwd() + '/review_scorer/data/'\n",
    "SENTI_PATH = DATA_FOLDER + 'SentiWord_info.json'\n",
    "DATA_PATH = DATA_FOLDER + 'data_origin.csv'\n",
    "data: pd.DataFrame\n",
    "\n",
    "with open(SENTI_PATH, mode='rt', encoding='UTF8') as f:\n",
    "    senti = pd.DataFrame.from_dict(json.load(f))\n",
    "\n",
    "data = pd.read_csv(DATA_PATH, encoding='UTF8')\n",
    "data = data.dropna(axis=0)\n",
    "data = data.sample(frac=1).reset_index(drop=True)"
   ],
   "metadata": {
    "collapsed": false,
    "pycharm": {
     "name": "#%%\n"
    }
   }
  },
  {
   "cell_type": "markdown",
   "source": [
    "# TOKENIZER"
   ],
   "metadata": {
    "collapsed": false
   }
  },
  {
   "cell_type": "code",
   "execution_count": 3,
   "outputs": [
    {
     "name": "stderr",
     "output_type": "stream",
     "text": [
      "100%|████████████████████████████████████| 29557/29557 [03:16<00:00, 150.06it/s]\n"
     ]
    }
   ],
   "source": [
    "from tqdm import tqdm\n",
    "from twkorean import TwitterKoreanProcessor\n",
    "\n",
    "processor = TwitterKoreanProcessor()\n",
    "tokenize = processor.tokenize_to_strings\n",
    "tokens = [tokenize(_) for _ in tqdm(data.review)]"
   ],
   "metadata": {
    "collapsed": false,
    "pycharm": {
     "name": "#%%\n"
    }
   }
  },
  {
   "cell_type": "markdown",
   "source": [
    "# SET REVIEW SCORER"
   ],
   "metadata": {
    "collapsed": false
   }
  },
  {
   "cell_type": "code",
   "execution_count": 7,
   "outputs": [
    {
     "name": "stdout",
     "output_type": "stream",
     "text": [
      "2022-08-22 19:26:55 collecting all words and their counts\n",
      "2022-08-22 19:26:55 PROGRESS: at sentence #0, processed 0 words, keeping 0 word types\n",
      "2022-08-22 19:26:58 PROGRESS: at sentence #10000, processed 1140426 words, keeping 29957 word types\n",
      "2022-08-22 19:27:01 PROGRESS: at sentence #20000, processed 2257599 words, keeping 42739 word types\n",
      "2022-08-22 19:27:03 collected 51667 word types from a corpus of 3315605 raw words and 29557 sentences\n",
      "2022-08-22 19:27:03 Creating a fresh vocabulary\n",
      "2022-08-22 19:27:03 Doc2Category lifecycle event {'msg': 'effective_min_count=5 retains 15230 unique words (29.48% of original 51667, drops 36437)', 'datetime': '2022-08-22T19:27:03.936097', 'gensim': '4.2.0', 'python': '3.7.12 | packaged by conda-forge | (default, Oct 26 2021, 06:08:53) \\n[GCC 9.4.0]', 'platform': 'Linux-5.4.0-65-generic-x86_64-with-debian-buster-sid', 'event': 'prepare_vocab'}\n",
      "2022-08-22 19:27:03 Doc2Category lifecycle event {'msg': 'effective_min_count=5 leaves 3260723 word corpus (98.34% of original 3315605, drops 54882)', 'datetime': '2022-08-22T19:27:03.936983', 'gensim': '4.2.0', 'python': '3.7.12 | packaged by conda-forge | (default, Oct 26 2021, 06:08:53) \\n[GCC 9.4.0]', 'platform': 'Linux-5.4.0-65-generic-x86_64-with-debian-buster-sid', 'event': 'prepare_vocab'}\n",
      "2022-08-22 19:27:04 deleting the raw counts dictionary of 51667 items\n",
      "2022-08-22 19:27:04 sample=0.001 downsamples 48 most-common words\n",
      "2022-08-22 19:27:04 Doc2Category lifecycle event {'msg': 'downsampling leaves estimated 2621766.0700681433 word corpus (80.4%% of prior 3260723)', 'datetime': '2022-08-22T19:27:04.062897', 'gensim': '4.2.0', 'python': '3.7.12 | packaged by conda-forge | (default, Oct 26 2021, 06:08:53) \\n[GCC 9.4.0]', 'platform': 'Linux-5.4.0-65-generic-x86_64-with-debian-buster-sid', 'event': 'prepare_vocab'}\n",
      "2022-08-22 19:27:04 estimated required memory for 15230 words and 100 dimensions: 19799000 bytes\n",
      "2022-08-22 19:27:04 resetting layer weights\n",
      "2022-08-22 19:27:04 Doc2Category lifecycle event {'update': False, 'trim_rule': 'None', 'datetime': '2022-08-22T19:27:04.226198', 'gensim': '4.2.0', 'python': '3.7.12 | packaged by conda-forge | (default, Oct 26 2021, 06:08:53) \\n[GCC 9.4.0]', 'platform': 'Linux-5.4.0-65-generic-x86_64-with-debian-buster-sid', 'event': 'build_vocab'}\n",
      "2022-08-22 19:27:04 Doc2Category lifecycle event {'msg': 'training model with 3 workers on 15230 vocabulary and 100 features, using sg=0 hs=0 sample=0.001 negative=5 window=5 shrink_windows=True', 'datetime': '2022-08-22T19:27:04.227015', 'gensim': '4.2.0', 'python': '3.7.12 | packaged by conda-forge | (default, Oct 26 2021, 06:08:53) \\n[GCC 9.4.0]', 'platform': 'Linux-5.4.0-65-generic-x86_64-with-debian-buster-sid', 'event': 'train'}\n",
      "2022-08-22 19:27:05 EPOCH 0 - PROGRESS: at 7.44% examples, 181547 words/s, in_qsize 5, out_qsize 0\n",
      "2022-08-22 19:27:06 EPOCH 0 - PROGRESS: at 14.66% examples, 186785 words/s, in_qsize 6, out_qsize 0\n",
      "2022-08-22 19:27:07 EPOCH 0 - PROGRESS: at 21.76% examples, 189040 words/s, in_qsize 6, out_qsize 1\n",
      "2022-08-22 19:27:08 EPOCH 0 - PROGRESS: at 29.34% examples, 189749 words/s, in_qsize 5, out_qsize 0\n",
      "2022-08-22 19:27:09 EPOCH 0 - PROGRESS: at 36.94% examples, 189225 words/s, in_qsize 6, out_qsize 0\n",
      "2022-08-22 19:27:10 EPOCH 0 - PROGRESS: at 44.59% examples, 189971 words/s, in_qsize 6, out_qsize 1\n",
      "2022-08-22 19:27:11 EPOCH 0 - PROGRESS: at 52.11% examples, 189784 words/s, in_qsize 5, out_qsize 1\n",
      "2022-08-22 19:27:12 EPOCH 0 - PROGRESS: at 60.05% examples, 190566 words/s, in_qsize 5, out_qsize 0\n",
      "2022-08-22 19:27:13 EPOCH 0 - PROGRESS: at 67.25% examples, 190791 words/s, in_qsize 6, out_qsize 0\n",
      "2022-08-22 19:27:14 EPOCH 0 - PROGRESS: at 75.15% examples, 190794 words/s, in_qsize 6, out_qsize 0\n",
      "2022-08-22 19:27:15 EPOCH 0 - PROGRESS: at 82.80% examples, 190861 words/s, in_qsize 6, out_qsize 0\n",
      "2022-08-22 19:27:16 EPOCH 0 - PROGRESS: at 90.70% examples, 191622 words/s, in_qsize 5, out_qsize 0\n",
      "2022-08-22 19:27:17 EPOCH 0 - PROGRESS: at 98.34% examples, 191469 words/s, in_qsize 5, out_qsize 0\n",
      "2022-08-22 19:27:17 EPOCH 0: training on 3315605 raw words (2622025 effective words) took 13.6s, 192279 effective words/s\n",
      "2022-08-22 19:27:18 EPOCH 1 - PROGRESS: at 7.69% examples, 187293 words/s, in_qsize 5, out_qsize 0\n",
      "2022-08-22 19:27:19 EPOCH 1 - PROGRESS: at 14.98% examples, 188730 words/s, in_qsize 6, out_qsize 0\n",
      "2022-08-22 19:27:20 EPOCH 1 - PROGRESS: at 21.76% examples, 188358 words/s, in_qsize 6, out_qsize 0\n",
      "2022-08-22 19:27:21 EPOCH 1 - PROGRESS: at 29.65% examples, 192086 words/s, in_qsize 5, out_qsize 0\n",
      "2022-08-22 19:27:23 EPOCH 1 - PROGRESS: at 36.38% examples, 189274 words/s, in_qsize 5, out_qsize 0\n",
      "2022-08-22 19:27:24 EPOCH 1 - PROGRESS: at 44.34% examples, 189654 words/s, in_qsize 6, out_qsize 0\n",
      "2022-08-22 19:27:25 EPOCH 1 - PROGRESS: at 52.11% examples, 190198 words/s, in_qsize 5, out_qsize 0\n",
      "2022-08-22 19:27:26 EPOCH 1 - PROGRESS: at 59.78% examples, 190779 words/s, in_qsize 5, out_qsize 0\n",
      "2022-08-22 19:27:27 EPOCH 1 - PROGRESS: at 67.25% examples, 191435 words/s, in_qsize 4, out_qsize 1\n",
      "2022-08-22 19:27:28 EPOCH 1 - PROGRESS: at 74.58% examples, 190746 words/s, in_qsize 5, out_qsize 0\n",
      "2022-08-22 19:27:29 EPOCH 1 - PROGRESS: at 82.31% examples, 191082 words/s, in_qsize 6, out_qsize 0\n",
      "2022-08-22 19:27:30 EPOCH 1 - PROGRESS: at 89.46% examples, 190805 words/s, in_qsize 5, out_qsize 0\n",
      "2022-08-22 19:27:31 EPOCH 1 - PROGRESS: at 97.20% examples, 190892 words/s, in_qsize 4, out_qsize 0\n",
      "2022-08-22 19:27:31 EPOCH 1: training on 3315605 raw words (2621425 effective words) took 13.7s, 191740 effective words/s\n",
      "2022-08-22 19:27:32 EPOCH 2 - PROGRESS: at 7.11% examples, 184247 words/s, in_qsize 5, out_qsize 0\n",
      "2022-08-22 19:27:33 EPOCH 2 - PROGRESS: at 14.14% examples, 183770 words/s, in_qsize 5, out_qsize 2\n",
      "2022-08-22 19:27:34 EPOCH 2 - PROGRESS: at 21.80% examples, 190887 words/s, in_qsize 6, out_qsize 1\n",
      "2022-08-22 19:27:35 EPOCH 2 - PROGRESS: at 29.35% examples, 190408 words/s, in_qsize 6, out_qsize 1\n",
      "2022-08-22 19:27:36 EPOCH 2 - PROGRESS: at 36.94% examples, 191710 words/s, in_qsize 6, out_qsize 2\n",
      "2022-08-22 19:27:37 EPOCH 2 - PROGRESS: at 45.29% examples, 191902 words/s, in_qsize 5, out_qsize 1\n",
      "2022-08-22 19:27:38 EPOCH 2 - PROGRESS: at 53.40% examples, 193550 words/s, in_qsize 6, out_qsize 1\n",
      "2022-08-22 19:27:39 EPOCH 2 - PROGRESS: at 60.93% examples, 192795 words/s, in_qsize 6, out_qsize 0\n",
      "2022-08-22 19:27:40 EPOCH 2 - PROGRESS: at 68.67% examples, 193686 words/s, in_qsize 5, out_qsize 0\n",
      "2022-08-22 19:27:41 EPOCH 2 - PROGRESS: at 76.42% examples, 192523 words/s, in_qsize 6, out_qsize 1\n",
      "2022-08-22 19:27:42 EPOCH 2 - PROGRESS: at 83.43% examples, 192075 words/s, in_qsize 6, out_qsize 1\n",
      "2022-08-22 19:27:44 EPOCH 2 - PROGRESS: at 91.60% examples, 193254 words/s, in_qsize 6, out_qsize 0\n",
      "2022-08-22 19:27:45 EPOCH 2 - PROGRESS: at 99.56% examples, 193641 words/s, in_qsize 2, out_qsize 1\n",
      "2022-08-22 19:27:45 EPOCH 2: training on 3315605 raw words (2622027 effective words) took 13.5s, 194352 effective words/s\n",
      "2022-08-22 19:27:46 EPOCH 3 - PROGRESS: at 6.80% examples, 176972 words/s, in_qsize 6, out_qsize 0\n",
      "2022-08-22 19:27:47 EPOCH 3 - PROGRESS: at 14.39% examples, 187515 words/s, in_qsize 6, out_qsize 0\n",
      "2022-08-22 19:27:48 EPOCH 3 - PROGRESS: at 21.48% examples, 186861 words/s, in_qsize 6, out_qsize 0\n",
      "2022-08-22 19:27:49 EPOCH 3 - PROGRESS: at 29.34% examples, 190738 words/s, in_qsize 6, out_qsize 0\n",
      "2022-08-22 19:27:50 EPOCH 3 - PROGRESS: at 36.37% examples, 189505 words/s, in_qsize 6, out_qsize 1\n",
      "2022-08-22 19:27:51 EPOCH 3 - PROGRESS: at 44.01% examples, 189647 words/s, in_qsize 5, out_qsize 0\n",
      "2022-08-22 19:27:52 EPOCH 3 - PROGRESS: at 51.50% examples, 190133 words/s, in_qsize 6, out_qsize 0\n",
      "2022-08-22 19:27:53 EPOCH 3 - PROGRESS: at 59.17% examples, 190172 words/s, in_qsize 5, out_qsize 0\n",
      "2022-08-22 19:27:54 EPOCH 3 - PROGRESS: at 66.49% examples, 189950 words/s, in_qsize 6, out_qsize 1\n",
      "2022-08-22 19:27:55 EPOCH 3 - PROGRESS: at 74.26% examples, 190178 words/s, in_qsize 4, out_qsize 1\n",
      "2022-08-22 19:27:56 EPOCH 3 - PROGRESS: at 81.95% examples, 191077 words/s, in_qsize 5, out_qsize 0\n",
      "2022-08-22 19:27:57 EPOCH 3 - PROGRESS: at 89.77% examples, 191117 words/s, in_qsize 6, out_qsize 0\n",
      "2022-08-22 19:27:58 EPOCH 3 - PROGRESS: at 97.83% examples, 191232 words/s, in_qsize 5, out_qsize 0\n",
      "2022-08-22 19:27:58 EPOCH 3: training on 3315605 raw words (2622150 effective words) took 13.6s, 192358 effective words/s\n",
      "2022-08-22 19:27:59 EPOCH 4 - PROGRESS: at 7.05% examples, 179404 words/s, in_qsize 5, out_qsize 0\n",
      "2022-08-22 19:28:00 EPOCH 4 - PROGRESS: at 14.65% examples, 187288 words/s, in_qsize 5, out_qsize 0\n",
      "2022-08-22 19:28:01 EPOCH 4 - PROGRESS: at 22.07% examples, 189261 words/s, in_qsize 6, out_qsize 0\n",
      "2022-08-22 19:28:02 EPOCH 4 - PROGRESS: at 29.34% examples, 188930 words/s, in_qsize 4, out_qsize 0\n",
      "2022-08-22 19:28:03 EPOCH 4 - PROGRESS: at 36.65% examples, 189504 words/s, in_qsize 6, out_qsize 0\n",
      "2022-08-22 19:28:04 EPOCH 4 - PROGRESS: at 44.59% examples, 190703 words/s, in_qsize 5, out_qsize 0\n",
      "2022-08-22 19:28:05 EPOCH 4 - PROGRESS: at 52.41% examples, 192297 words/s, in_qsize 6, out_qsize 0\n",
      "2022-08-22 19:28:06 EPOCH 4 - PROGRESS: at 60.05% examples, 192226 words/s, in_qsize 5, out_qsize 0\n",
      "2022-08-22 19:28:07 EPOCH 4 - PROGRESS: at 67.51% examples, 191990 words/s, in_qsize 5, out_qsize 0\n",
      "2022-08-22 19:28:08 EPOCH 4 - PROGRESS: at 74.89% examples, 191546 words/s, in_qsize 4, out_qsize 1\n",
      "2022-08-22 19:28:09 EPOCH 4 - PROGRESS: at 82.57% examples, 192463 words/s, in_qsize 5, out_qsize 0\n",
      "2022-08-22 19:28:11 EPOCH 4 - PROGRESS: at 90.05% examples, 191928 words/s, in_qsize 6, out_qsize 0\n",
      "2022-08-22 19:28:12 EPOCH 4 - PROGRESS: at 97.76% examples, 191964 words/s, in_qsize 6, out_qsize 0\n",
      "2022-08-22 19:28:12 EPOCH 4: training on 3315605 raw words (2621436 effective words) took 13.6s, 193192 effective words/s\n",
      "2022-08-22 19:28:12 Doc2Category lifecycle event {'msg': 'training on 16578025 raw words (13109063 effective words) took 68.0s, 192653 effective words/s', 'datetime': '2022-08-22T19:28:12.272747', 'gensim': '4.2.0', 'python': '3.7.12 | packaged by conda-forge | (default, Oct 26 2021, 06:08:53) \\n[GCC 9.4.0]', 'platform': 'Linux-5.4.0-65-generic-x86_64-with-debian-buster-sid', 'event': 'train'}\n",
      "2022-08-22 19:28:12 Doc2Category lifecycle event {'params': 'Doc2Category<vocab=15230, vector_size=100, alpha=0.025>', 'datetime': '2022-08-22T19:28:12.273557', 'gensim': '4.2.0', 'python': '3.7.12 | packaged by conda-forge | (default, Oct 26 2021, 06:08:53) \\n[GCC 9.4.0]', 'platform': 'Linux-5.4.0-65-generic-x86_64-with-debian-buster-sid', 'event': 'created'}\n"
     ]
    }
   ],
   "source": [
    "from review_scorer import Doc2Category\n",
    "\n",
    "# Review scorer needs tokens of datas to train when initializing it.\n",
    "# 리뷰 채점기 클래스를 생성할 때, 토크나이즈 된 데이터를 인자로 주어야 합니다.\n",
    "model = Doc2Category(sentences=tokens, senti_dict_path=SENTI_PATH)"
   ],
   "metadata": {
    "collapsed": false,
    "pycharm": {
     "name": "#%%\n"
    }
   }
  },
  {
   "cell_type": "markdown",
   "metadata": {},
   "source": [
    "## TAGGING RIVIEW SCORER's SENTIMENTAL DICTIONARY"
   ]
  },
  {
   "cell_type": "code",
   "execution_count": 8,
   "metadata": {
    "collapsed": false,
    "jupyter": {
     "outputs_hidden": false
    },
    "pycharm": {
     "name": "#%%\n"
    }
   },
   "outputs": [
    {
     "name": "stderr",
     "output_type": "stream",
     "text": [
      "taste: 100%|████████████████████████████████| 1445/1445 [01:24<00:00, 17.13it/s]\n",
      "price: 100%|████████████████████████████████| 2259/2259 [02:12<00:00, 16.99it/s]\n",
      "service: 100%|██████████████████████████████| 1376/1376 [01:21<00:00, 16.96it/s]\n",
      "atmosphere: 100%|█████████████████████████████| 663/663 [00:38<00:00, 17.02it/s]\n",
      "polarity: 100%|██████████████████████████| 14854/14854 [00:32<00:00, 458.94it/s]\n"
     ]
    }
   ],
   "source": [
    "# Tagging review scorer's sentimental dictionary by category.\n",
    "# 카테고리에 따라 리뷰 채점기의 감성사전을 태깅합니다.\n",
    "model.tag(categories={'taste': ['맛', '맛있다', '맛없다'],\n",
    "                      'price': ['가격', '싸다', '비싸다', '저렴'],\n",
    "                      'service': ['서비스', '친절', '싸가지'],\n",
    "                      'atmosphere': ['인테리어', '분위기']},\n",
    "          width=6, depth=6)"
   ]
  },
  {
   "cell_type": "markdown",
   "metadata": {},
   "source": [
    "# SCORING WITH REVIEW SCORER"
   ]
  },
  {
   "cell_type": "code",
   "execution_count": 9,
   "metadata": {
    "pycharm": {
     "name": "#%%\n"
    }
   },
   "outputs": [
    {
     "name": "stdout",
     "output_type": "stream",
     "text": [
      "index:  2000\n",
      "{'taste': 4.0, 'price': 0.5741626794258373, 'service': 0.0, 'atmosphere': 0.0}\n",
      "순면 먹으러 여의도 정인면옥만두와 녹두전도 좋은데 순면이 최고\n",
      "\n",
      "index:  2001\n",
      "{'taste': 1.0, 'price': 1.278688524590164, 'service': 0.0, 'atmosphere': 0.0}\n",
      "게가 들어있는 파스타 / 블랙 트러플 관자 리조또전경련 50층에 있어서 엘베탈때 귀가 아플수도 있습니다... 50층인만큼 뷰가 정말 끝내주고 예뻐요 ㅎㅎ 다만 음식 나오는 시간이 매우 오래걸렸습니다 ㅜㅜㅜ 컨셉도 이상해서 여자 직원들이 이상한 모자 쓰고있는데 안쓰러웠음....ㅠㅠㅠ 게가 들은 3만원짜리 파스타는 된장찌개 맛이 많이 났고, 블랙 트러플은 정말 맛있었음! 대신 계속 입술 검은색돼서 남친이랑 먹기는좀 그럴수돜ㅋㅋㅋㅋㅋ 가끔 분위기 낼때 가고싶습니다!\n",
      "\n",
      "index:  2002\n",
      "{'taste': 3.846547314578005, 'price': 1.8528512040160012, 'service': 0.0, 'atmosphere': 0.0}\n",
      "맛있어요. 가성비 좋아요. 닭 한마리 치고 가격이 매우 비싼것 같지만 생각보다 매우 많아요. 3사람도 배불리 먹을 수 있어요\n",
      "\n",
      "index:  2003\n",
      "{'taste': 7.0, 'price': 2.8760838535610396, 'service': 0.0, 'atmosphere': 0.0}\n",
      "증맬 자주간 식당입니드,,,우선 맛있어요팟타이 이렇게 만족스러운 곳 처음입니다 ㅜㅜ뿌팟퐁커리두 넘마싯구 ,, 쌀국수도 너무 좋아요메뉴 거의 다 먹어봤는데커리랑 팟타이가 제일 괜찮네요!!!근데 간이 느므 쎄요...!\n",
      "\n",
      "index:  2004\n",
      "{'taste': 4.0, 'price': 1.8528512040160012, 'service': 0.0, 'atmosphere': 0.0}\n",
      "갈치가 들어가있는 김밥!! 완전 별미당 같이 파는 한치무침이랑 같이 먹으면 더 맛있음!! 아주머니 혼자서 운영하시는거 같은데 가기 전에 미리 전화하고 가면 바로 픽업할 수 있게 미리 만들어두신당 간이 많이 세지 않고 은은하게 갈치맛을 느낄 수 있어서 더 맛있었던거 같당 한치무침에는 한치랑 무말랭이가 들어있는데 한치가 조금 더 많이 들어있었으면 더 좋았을걸 하는 아쉬움 말고는 다 좋았음\n",
      "\n",
      "index:  2005\n",
      "{'taste': 2.071616047994001, 'price': -1.8575178102737158, 'service': 2.0, 'atmosphere': -0.007874015748031496}\n",
      "더워지면 또 다시 가고싶은 곳이네요..근래 피쉬앤칩스를 꼭 먹어보고 싶었는데 제주에서 먹을 줄이야..! 튀김옷이 얇고 바삭해서 같이 나오는 레몬을 뿌려 먹다가 신맛이 부족해서 식초+소금을 뿌려서 소스에 찍어 먹었더니 정말 맛났어요. 수영하다가 저녁에 해지는 거 보면서 맥주 한 잔에 먹으면 완벽할 것 같은 맛..!혼자 갔는데 스몰피쉬앤칩스를 먹으면 돼서 편리했습니다. 다음엔 친구들 끌고 가서 다른 메뉴들도 먹어봐야겠어요~\n",
      "\n",
      "index:  2006\n",
      "{'taste': 6.0, 'price': 0.28707476733792525, 'service': 0.0, 'atmosphere': 0.0}\n",
      "런치 카운터 스시 오마카세 120000처음 봄날같은 완두콩을 갼아 차앙무시 위에 올린 것이 인상적이네요.부드러우면서도 전복향이 진했고, 짧은 시간의 아카미 즈케도 재미있었어요. 전갱이가 신선한게 좋았지만, 학꽁치의 담백함도 지지않는 존재감이네요. 우니를 국내산과 캐나다산 두가지를 듬뿍 사용하여 맛과 멋을 잘살린거 같아요. 쿄쿠가 담백하고 달달하게 두번 나오는것도 신기했어요.고찌소사마.\n",
      "\n",
      "index:  2007\n",
      "{'taste': 4.0, 'price': 1.8528512040160012, 'service': 0.0, 'atmosphere': 0.0}\n",
      "밍밍하다 싶으면서도 짭쪼름하고 감칠맛나고별로다 싶으면서도 계속 먹게되는평양냉면 그 자체면도 가위로 안잘라도 된다는 점에서 정말 좋다개인적으로 을밀대를 제일 좋아하지만 여기도 을밀대만큼 맛있당\n",
      "\n",
      "index:  2008\n",
      "{'taste': 2.0, 'price': 1.278688524590164, 'service': 0.0, 'atmosphere': 0.0}\n",
      "평양냉면은 슴슴하지만 땡기는 맛은 아니었음. 오히려 소고기국밥은 정말 맛있게 먹음.\n",
      "\n",
      "index:  2009\n",
      "{'taste': 2.0, 'price': 2.278688524590164, 'service': 0.0, 'atmosphere': 0.0}\n",
      "모둠케밥?인가 맛있고 양도 되게많더라고요. 놀랐음. 돈이 아깝지 않았음. 다음에 가면 저는 양고기를 좋아해서 양고기만으로 주문할듯. 또 갈것 같아요!\n",
      "\n"
     ]
    }
   ],
   "source": [
    "start = 2000\n",
    "for i in range(start, start + 10):\n",
    "    print('index: ', i)\n",
    "    print(model.score_review(tokenize(data.review.iloc[i])))\n",
    "    print(data.review.iloc[i])\n",
    "    print()"
   ]
  },
  {
   "cell_type": "markdown",
   "source": [
    "# SCORING REVIEWS"
   ],
   "metadata": {
    "collapsed": false
   }
  },
  {
   "cell_type": "code",
   "execution_count": 331,
   "outputs": [
    {
     "name": "stderr",
     "output_type": "stream",
     "text": [
      "scoring: 100%|████████████████████████████| 29557/29557 [25:16<00:00, 19.49it/s]\n"
     ]
    }
   ],
   "source": [
    "from sklearn.preprocessing import robust_scale\n",
    "\n",
    "scores = pd.DataFrame(columns=model.category)\n",
    "for i in tqdm(range(len(data)), desc='scoring'):\n",
    "    scores.loc[i, :] = model.score_review(tokenize(data.review[i]))\n",
    "scores = scores.astype('float')\n",
    "scores = pd.DataFrame(robust_scale(scores, axis=1), columns=model.category)\n",
    "data = pd.concat([data, scores], axis=1)\n",
    "data.loc[:, model.category] = data.loc[:, model.category].astype('float')"
   ],
   "metadata": {
    "collapsed": false,
    "pycharm": {
     "name": "#%%\n"
    }
   }
  },
  {
   "cell_type": "code",
   "execution_count": 332,
   "outputs": [
    {
     "data": {
      "text/plain": "       Unnamed: 0                                             review     ID  \\\n0            6738  트러플 바오 ! 버섯을 싫어하는 사람도 정말 홀딱 반하게할 맛이다.집에 가서 이렇게...    해피뚜   \n1            8594  오픈 5분만에 만석이라니!! 이렇게 핫플인줄 모르고 운좋게 방문한 해운대 맛집 해목...     보람   \n2             549  사이즈-닭 / 흑색 라멘 (13,000)웨이팅 25분, 그렇지만 기다릴 가치가 있는...  찻집고냉이   \n3           17590  (무나리뷰) 구서귀포에 위치한 전국구라는 군만두맛집. 예전부터 구서귀포에 군만두맛집...   무나&뎅   \n4            7285  치미창가만 두접시 먹고 옴 - 정말 맛있다 !치미창가에 대한 호평이 많아서 먹어보고...     아지   \n...           ...                                                ...    ...   \n29552        3473  가게이름 : #좋은소식⠀위치 : 수원시 영통구 매영로269번길 43(수인분당선 영통...    쿠리뷰   \n29553       22878  ㅠㅠ길게 쓴 리뷰가 오류로 날아갔네요..ㄸㄹㄹ요약정리하자면웨이팅을 40분이나 해서 ...     슈빙   \n29554       13803  배부르게 잘먹었어요~~가격은 조금 사악하지만ㅜㅜ맛 하나만큼은 최고네요~~아침 일찍 ...   Eun❤   \n29555       15477          가격대비 별로지만 한번쯤 먹어볼만하다. 평양냉면 초보인 나에게 신기했던맛!   Dora   \n29556        8122  워낙 빵순이라 제주도에 가서도 빵집 몇곳을 둘러봤어요~ 그중에서 제일 기억에 남는 ...    니니쿤   \n\n         title                             load   가고싶다   평점     taste  \\\n0          바오바         서울특별시 용산구 녹사평대로40나길 1 2F  10473  4.4  0.451128   \n1           해목             부산광역시 해운대구 구남로24번길 8   6031  4.5  1.462500   \n2          라무라              서울특별시 마포구 포은로 21 1F   3013  4.5  0.938666   \n3         천일만두              제주특별자치도 서귀포시 서문로 25    283  4.4  1.319149   \n4          와하카             서울특별시 성동구 성수일로12길 29   4851  4.4  0.498837   \n...        ...                              ...    ...  ...       ...   \n29552     좋은소식  경기도 수원시 영통구 매영로269번길 43 3F 302호   2085  4.5  0.574966   \n29553    맛이차이나              서울특별시 마포구 독막로 68 2F   7044  4.2  1.614360   \n29554       다츠          서울특별시 용산구 이태원로55나길 6 1F   4595  4.4  0.000000   \n29555      우래옥              서울특별시 중구 창경궁로 62-29   8473  4.4  1.333333   \n29556  오드랑베이커리      제주특별자치도 제주시 조천읍 조함해안로 552-3   3189  4.4  0.000000   \n\n          price   service  atmosphere  \n0      0.842105 -0.451128   -0.451128  \n1      0.362500 -0.362500   -0.362500  \n2      0.425399 -0.425399   -0.508940  \n3      0.382979 -0.382979   -0.382979  \n4      0.508138 -0.498837   -0.498837  \n...         ...       ...         ...  \n29552  0.489291 -0.489291   -0.489291  \n29553  0.340806 -0.340806   -0.340806  \n29554  4.000000  0.000000    0.000000  \n29555  0.380952 -0.380952   -0.380952  \n29556  0.000000  0.000000    0.000000  \n\n[29557 rows x 11 columns]",
      "text/html": "<div>\n<style scoped>\n    .dataframe tbody tr th:only-of-type {\n        vertical-align: middle;\n    }\n\n    .dataframe tbody tr th {\n        vertical-align: top;\n    }\n\n    .dataframe thead th {\n        text-align: right;\n    }\n</style>\n<table border=\"1\" class=\"dataframe\">\n  <thead>\n    <tr style=\"text-align: right;\">\n      <th></th>\n      <th>Unnamed: 0</th>\n      <th>review</th>\n      <th>ID</th>\n      <th>title</th>\n      <th>load</th>\n      <th>가고싶다</th>\n      <th>평점</th>\n      <th>taste</th>\n      <th>price</th>\n      <th>service</th>\n      <th>atmosphere</th>\n    </tr>\n  </thead>\n  <tbody>\n    <tr>\n      <th>0</th>\n      <td>6738</td>\n      <td>트러플 바오 ! 버섯을 싫어하는 사람도 정말 홀딱 반하게할 맛이다.집에 가서 이렇게...</td>\n      <td>해피뚜</td>\n      <td>바오바</td>\n      <td>서울특별시 용산구 녹사평대로40나길 1 2F</td>\n      <td>10473</td>\n      <td>4.4</td>\n      <td>0.451128</td>\n      <td>0.842105</td>\n      <td>-0.451128</td>\n      <td>-0.451128</td>\n    </tr>\n    <tr>\n      <th>1</th>\n      <td>8594</td>\n      <td>오픈 5분만에 만석이라니!! 이렇게 핫플인줄 모르고 운좋게 방문한 해운대 맛집 해목...</td>\n      <td>보람</td>\n      <td>해목</td>\n      <td>부산광역시 해운대구 구남로24번길 8</td>\n      <td>6031</td>\n      <td>4.5</td>\n      <td>1.462500</td>\n      <td>0.362500</td>\n      <td>-0.362500</td>\n      <td>-0.362500</td>\n    </tr>\n    <tr>\n      <th>2</th>\n      <td>549</td>\n      <td>사이즈-닭 / 흑색 라멘 (13,000)웨이팅 25분, 그렇지만 기다릴 가치가 있는...</td>\n      <td>찻집고냉이</td>\n      <td>라무라</td>\n      <td>서울특별시 마포구 포은로 21 1F</td>\n      <td>3013</td>\n      <td>4.5</td>\n      <td>0.938666</td>\n      <td>0.425399</td>\n      <td>-0.425399</td>\n      <td>-0.508940</td>\n    </tr>\n    <tr>\n      <th>3</th>\n      <td>17590</td>\n      <td>(무나리뷰) 구서귀포에 위치한 전국구라는 군만두맛집. 예전부터 구서귀포에 군만두맛집...</td>\n      <td>무나&amp;뎅</td>\n      <td>천일만두</td>\n      <td>제주특별자치도 서귀포시 서문로 25</td>\n      <td>283</td>\n      <td>4.4</td>\n      <td>1.319149</td>\n      <td>0.382979</td>\n      <td>-0.382979</td>\n      <td>-0.382979</td>\n    </tr>\n    <tr>\n      <th>4</th>\n      <td>7285</td>\n      <td>치미창가만 두접시 먹고 옴 - 정말 맛있다 !치미창가에 대한 호평이 많아서 먹어보고...</td>\n      <td>아지</td>\n      <td>와하카</td>\n      <td>서울특별시 성동구 성수일로12길 29</td>\n      <td>4851</td>\n      <td>4.4</td>\n      <td>0.498837</td>\n      <td>0.508138</td>\n      <td>-0.498837</td>\n      <td>-0.498837</td>\n    </tr>\n    <tr>\n      <th>...</th>\n      <td>...</td>\n      <td>...</td>\n      <td>...</td>\n      <td>...</td>\n      <td>...</td>\n      <td>...</td>\n      <td>...</td>\n      <td>...</td>\n      <td>...</td>\n      <td>...</td>\n      <td>...</td>\n    </tr>\n    <tr>\n      <th>29552</th>\n      <td>3473</td>\n      <td>가게이름 : #좋은소식⠀위치 : 수원시 영통구 매영로269번길 43(수인분당선 영통...</td>\n      <td>쿠리뷰</td>\n      <td>좋은소식</td>\n      <td>경기도 수원시 영통구 매영로269번길 43 3F 302호</td>\n      <td>2085</td>\n      <td>4.5</td>\n      <td>0.574966</td>\n      <td>0.489291</td>\n      <td>-0.489291</td>\n      <td>-0.489291</td>\n    </tr>\n    <tr>\n      <th>29553</th>\n      <td>22878</td>\n      <td>ㅠㅠ길게 쓴 리뷰가 오류로 날아갔네요..ㄸㄹㄹ요약정리하자면웨이팅을 40분이나 해서 ...</td>\n      <td>슈빙</td>\n      <td>맛이차이나</td>\n      <td>서울특별시 마포구 독막로 68 2F</td>\n      <td>7044</td>\n      <td>4.2</td>\n      <td>1.614360</td>\n      <td>0.340806</td>\n      <td>-0.340806</td>\n      <td>-0.340806</td>\n    </tr>\n    <tr>\n      <th>29554</th>\n      <td>13803</td>\n      <td>배부르게 잘먹었어요~~가격은 조금 사악하지만ㅜㅜ맛 하나만큼은 최고네요~~아침 일찍 ...</td>\n      <td>Eun❤</td>\n      <td>다츠</td>\n      <td>서울특별시 용산구 이태원로55나길 6 1F</td>\n      <td>4595</td>\n      <td>4.4</td>\n      <td>0.000000</td>\n      <td>4.000000</td>\n      <td>0.000000</td>\n      <td>0.000000</td>\n    </tr>\n    <tr>\n      <th>29555</th>\n      <td>15477</td>\n      <td>가격대비 별로지만 한번쯤 먹어볼만하다. 평양냉면 초보인 나에게 신기했던맛!</td>\n      <td>Dora</td>\n      <td>우래옥</td>\n      <td>서울특별시 중구 창경궁로 62-29</td>\n      <td>8473</td>\n      <td>4.4</td>\n      <td>1.333333</td>\n      <td>0.380952</td>\n      <td>-0.380952</td>\n      <td>-0.380952</td>\n    </tr>\n    <tr>\n      <th>29556</th>\n      <td>8122</td>\n      <td>워낙 빵순이라 제주도에 가서도 빵집 몇곳을 둘러봤어요~ 그중에서 제일 기억에 남는 ...</td>\n      <td>니니쿤</td>\n      <td>오드랑베이커리</td>\n      <td>제주특별자치도 제주시 조천읍 조함해안로 552-3</td>\n      <td>3189</td>\n      <td>4.4</td>\n      <td>0.000000</td>\n      <td>0.000000</td>\n      <td>0.000000</td>\n      <td>0.000000</td>\n    </tr>\n  </tbody>\n</table>\n<p>29557 rows × 11 columns</p>\n</div>"
     },
     "execution_count": 332,
     "metadata": {},
     "output_type": "execute_result"
    }
   ],
   "source": [
    "data"
   ],
   "metadata": {
    "collapsed": false,
    "pycharm": {
     "name": "#%%\n"
    }
   }
  },
  {
   "cell_type": "markdown",
   "source": [
    "# SCORE OF STORE & USERS"
   ],
   "metadata": {
    "collapsed": false,
    "pycharm": {
     "name": "#%% md\n"
    }
   }
  },
  {
   "cell_type": "code",
   "execution_count": 233,
   "outputs": [],
   "source": [
    "stores = data.title.drop_duplicates().copy()\n",
    "users = data.ID.drop_duplicates().copy()\n",
    "stores = pd.DataFrame(index=stores, columns=model.category)\n",
    "users = pd.DataFrame(index=users, columns=model.category)"
   ],
   "metadata": {
    "collapsed": false,
    "pycharm": {
     "name": "#%%\n"
    }
   }
  },
  {
   "cell_type": "code",
   "execution_count": 234,
   "outputs": [
    {
     "name": "stderr",
     "output_type": "stream",
     "text": [
      "store: 100%|█████████████████████████████████| 491/491 [00:01<00:00, 352.76it/s]\n",
      "user: 100%|████████████████████████████████| 6505/6505 [00:18<00:00, 358.24it/s]\n"
     ]
    }
   ],
   "source": [
    "for store in tqdm(stores.index, desc='store'):\n",
    "    stores.loc[store] = data.loc[data.title == store, model.category].mean()\n",
    "stores = stores.astype('float')\n",
    "\n",
    "for user in tqdm(users.index, desc='user'):\n",
    "    users.loc[user] = data.loc[data.ID == user, model.category].mean()\n",
    "users = users.astype('float')"
   ],
   "metadata": {
    "collapsed": false,
    "pycharm": {
     "name": "#%%\n"
    }
   }
  }
 ],
 "metadata": {
  "kernelspec": {
   "display_name": "Python 3 (ipykernel)",
   "language": "python",
   "name": "python3"
  },
  "language_info": {
   "codemirror_mode": {
    "name": "ipython",
    "version": 3
   },
   "file_extension": ".py",
   "mimetype": "text/x-python",
   "name": "python",
   "nbconvert_exporter": "python",
   "pygments_lexer": "ipython3",
   "version": "3.7.12"
  }
 },
 "nbformat": 4,
 "nbformat_minor": 4
}